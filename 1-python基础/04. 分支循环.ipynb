{
 "cells": [
  {
   "cell_type": "markdown",
   "metadata": {},
   "source": [
    "# 程序三大结构\n",
    "- 顺序\n",
    "- 分支\n",
    "- 循环\n",
    "\n",
    "# 分支\n",
    "- 条件表达式就是计算结果必须为布尔值的表达式\n",
    "- 表达式后面的冒号不能少\n",
    "- 注意if后面出现的语句，如果属于if语句块，则必须处于同一个缩进等\n",
    "- 条件表达式结果为True执行if后面的缩进的语句块\n",
    "- 同一个语句块，处于同一个缩进级别\n",
    "\n",
    "- 分支的基本语法\n",
    "      \n",
    "      if 条件表达式:\n",
    "          语句1\n",
    "          语句2\n",
    "          语句3\n",
    "          ......\n",
    "\n",
    "### 双向分支\n",
    "- if...else..语句\n",
    "\n",
    "        if 条件表达式:\n",
    "            语句1\n",
    "            语句2\n",
    "            ......\n",
    "        else:\n",
    "            语句1\n",
    "            语句2\n",
    "            ......\n",
    "\n",
    "- 双向分支有两个分支，当程序执行到if...else...语句的时候，一定会执行if或else中的一个，且也仅执行一个\n",
    "- 缩进问题： if和else一个层级，其余语句一个层级\n",
    "\n",
    "### 多路分支\n",
    "- 基本语法\n",
    "\n",
    "        if 条件表达式:\n",
    "            语句1\n",
    "            ......\n",
    "        elif 条件表达式:\n",
    "            语句1\n",
    "            ......\n",
    "        elif 条件表达式:\n",
    "            语句1\n",
    "            ......\n",
    "        ......\n",
    "        else:\n",
    "            语句\n",
    "            ......\n",
    "- elif 可以由很多个\n",
    "- else可选\n",
    "- 多路分支只会选一个执行            \n",
    "            \n",
    "### 注意\n",
    "- if语句可以嵌套使用，但不推荐\n",
    "- python没有switch-case语句"
   ]
  },
  {
   "cell_type": "code",
   "execution_count": 25,
   "metadata": {},
   "outputs": [
    {
     "name": "stdout",
     "output_type": "stream",
     "text": [
      "去叫家长吧，孩子\n",
      "我们不带你玩\n",
      "滚球吧\n",
      "test\n"
     ]
    }
   ],
   "source": [
    "# if语句练习\n",
    "# 如果age小于18岁，则打印信息“去叫家长”\n",
    "\n",
    "age = 17\n",
    "if age < 18:\n",
    "    print(\"去叫家长吧，孩子\")\n",
    "    print(\"我们不带你玩\")\n",
    "    print(\"滚球吧\")\n",
    "\n",
    "print('test')\n"
   ]
  },
  {
   "cell_type": "code",
   "execution_count": 26,
   "metadata": {
    "scrolled": true
   },
   "outputs": [
    {
     "name": "stdout",
     "output_type": "stream",
     "text": [
      "请输入性别：男\n",
      "你输入的性别是：男\n",
      "来，我们纪念一下今天吧，代码敲十遍\n",
      "开始上课啦~~\n"
     ]
    }
   ],
   "source": [
    "# input的作用是\n",
    "# 1. 在屏幕上输出括号内的字符串\n",
    "# 2. 接受用户输入的内容并返回到程序\n",
    "# 3. input返回的内容一定是字符串类型\n",
    "\n",
    "gender = input(\"请输入性别：\")\n",
    "print(\"你输入的性别是：{0}\".format(gender))\n",
    "\n",
    "if gender == \"男\":\n",
    "    print(\"来，我们纪念一下今天吧，代码敲十遍\")\n",
    "else:\n",
    "    print(\"发糖咯发糖咯\")\n",
    "    print(\"你是女生，特别照顾咯\")\n",
    "    \n",
    "print(\"开始上课啦~~\")\n"
   ]
  },
  {
   "cell_type": "code",
   "execution_count": 8,
   "metadata": {},
   "outputs": [
    {
     "name": "stdout",
     "output_type": "stream",
     "text": [
      "请输入学生成绩：100\n",
      "优\n"
     ]
    }
   ],
   "source": [
    "# 考试成绩判断\n",
    "# 90及以上：优\n",
    "# [80-90)：良\n",
    "# [70-80)：中\n",
    "# [60-70)：平\n",
    "# 60一下：差\n",
    "\n",
    "# 注意input的返回值类型为str\n",
    "score = input(\"请输入学生成绩：\")\n",
    "\n",
    "# 需要把str转换成int\n",
    "score = int(score)\n",
    "\n",
    "if score >= 90:\n",
    "    print(\"优\")\n",
    "elif score >= 80:\n",
    "    print(\"良\")\n",
    "elif score >= 70:\n",
    "    print(\"中\")\n",
    "elif score >= 60:\n",
    "    print(\"平\")\n",
    "else:\n",
    "    print(\"差\")"
   ]
  },
  {
   "cell_type": "markdown",
   "metadata": {},
   "source": [
    "## 循环\n",
    "- 重复执行某些固定动作或者处理基本固定的事物\n",
    "- 分类\n",
    "    - for循环\n",
    "    - while循环\n",
    "    \n",
    "### for循环\n",
    "- 基本语法\n",
    "\n",
    "        for 变量 in 序列:\n",
    "            语句1\n",
    "            语句2\n",
    "            ...\n",
    "\n",
    "### for-else语句\n",
    "- 当for循环结束的时候会执行else语句\n",
    "- else语句是可选语句\n",
    "\n",
    "        for 变量 in 序列:\n",
    "            语句1\n",
    "            语句2\n",
    "            ...\n",
    "        else:\n",
    "            语句1\n",
    "            ...\n",
    "            \n",
    "            \n",
    "### 循环之break, continue, pass\n",
    "- break: 无条件结束整个循环，简称循环猝死\n",
    "- continue：无条件结束本次循环，从新进入下一轮循环\n",
    "- pass：表示略过，通常用于占位"
   ]
  },
  {
   "cell_type": "code",
   "execution_count": 14,
   "metadata": {},
   "outputs": [
    {
     "name": "stdout",
     "output_type": "stream",
     "text": [
      "80:良\n",
      "33:差\n",
      "97:优\n"
     ]
    }
   ],
   "source": [
    "# 列表就是一列数字或其他值，一般用中括号表示\n",
    "# 例如 ['A','B','C']\n",
    "\n",
    "# 打印学生成绩列表\n",
    "# 90及以上：优\n",
    "# [80-90)：良\n",
    "# [70-80)：中\n",
    "# [60-70)：平\n",
    "# 60一下：差\n",
    "for score in [80,33,97]:\n",
    "    if score >= 90:\n",
    "        print(\"{0}:优\".format(score))\n",
    "    elif score >= 80:\n",
    "        print(\"{0}:良\".format(score))\n",
    "    elif score >= 70:\n",
    "        print(\"{0}:中\".format(score))\n",
    "    elif score >= 60:\n",
    "        print(\"{0}:平\".format(score))\n",
    "    else:\n",
    "        print(\"{0}:差\".format(score))"
   ]
  },
  {
   "cell_type": "code",
   "execution_count": 16,
   "metadata": {},
   "outputs": [
    {
     "name": "stdout",
     "output_type": "stream",
     "text": [
      "1\n",
      "2\n",
      "3\n",
      "4\n",
      "5\n",
      "6\n",
      "7\n",
      "8\n",
      "9\n",
      "10\n",
      "其他数字不需要\n"
     ]
    }
   ],
   "source": [
    "# range练习\n",
    "# ## range介绍  ##\n",
    "# 生成一个数字序列\n",
    "# 具体范围可以设定\n",
    "# 注意，一般在python中，如果有表示数字范围的两个数，一般是左闭右开\n",
    "# randint是特例，他左右都包含\n",
    "\n",
    "# 打印从1-10的数字\n",
    "for i in range(1,11):\n",
    "    print(i)\n",
    "else:\n",
    "    print(\"其他数字不需要\")"
   ]
  },
  {
   "cell_type": "code",
   "execution_count": 18,
   "metadata": {},
   "outputs": [
    {
     "name": "stdout",
     "output_type": "stream",
     "text": [
      "1\n",
      "2\n",
      "3\n",
      "4\n",
      "5\n",
      "6\n",
      "Find.\n"
     ]
    }
   ],
   "source": [
    "# 在数字1-10中，寻找数字7，一旦找到，打印出来，其余则什么都不做\n",
    "# for 循环中的变量表示，一般用i，k，m，n，或者indx，idx，item之类\n",
    "# 在python中，如果循环变量名称不重要，可以用下划线（_)代替\n",
    "\n",
    "for i in range(1,11):\n",
    "    if i == 7:\n",
    "        print(\"Find.\")\n",
    "        break\n",
    "    else:\n",
    "        print(i)"
   ]
  },
  {
   "cell_type": "code",
   "execution_count": 19,
   "metadata": {},
   "outputs": [
    {
     "name": "stdout",
     "output_type": "stream",
     "text": [
      "2是偶数\n",
      "4是偶数\n",
      "6是偶数\n",
      "8是偶数\n"
     ]
    }
   ],
   "source": [
    "# continue语句联系\n",
    "# 在数字1-10中，寻找所有偶数，找到偶数后打印偶数\n",
    "\n",
    "for i in range(1,10):\n",
    "    if i % 2 == 1:\n",
    "        continue\n",
    "    else:\n",
    "        print(\"{0}是偶数\".format(i))"
   ]
  },
  {
   "cell_type": "code",
   "execution_count": 21,
   "metadata": {},
   "outputs": [
    {
     "name": "stdout",
     "output_type": "stream",
     "text": [
      "2是偶数\n",
      "4是偶数\n",
      "6是偶数\n",
      "8是偶数\n"
     ]
    }
   ],
   "source": [
    "# continue语句 版本 2\n",
    "# 在数字1-10中，寻找所有偶数，找到偶数后打印偶数\n",
    "for i in range(1,10):\n",
    "    if i % 2 == 0:\n",
    "        print(\"{0}是偶数\".format(i))"
   ]
  },
  {
   "cell_type": "code",
   "execution_count": 22,
   "metadata": {},
   "outputs": [
    {
     "name": "stdout",
     "output_type": "stream",
     "text": [
      "2是偶数\n",
      "4是偶数\n",
      "6是偶数\n",
      "8是偶数\n"
     ]
    }
   ],
   "source": [
    "# continue语句 版本 2\n",
    "# 在数字1-10中，寻找所有偶数，找到偶数后打印偶数\n",
    "# 本案例完整显示continue的用法和作用\n",
    "for i in range(1,10):\n",
    "    if i % 2 == 1:\n",
    "        continue\n",
    "    print(\"{0}是偶数\".format(i))"
   ]
  },
  {
   "cell_type": "code",
   "execution_count": 24,
   "metadata": {},
   "outputs": [
    {
     "name": "stdout",
     "output_type": "stream",
     "text": [
      "1\n",
      "2\n",
      "3\n",
      "4\n",
      "5\n",
      "6\n",
      "7\n",
      "8\n",
      "9\n",
      "10\n"
     ]
    }
   ],
   "source": [
    "# pass例子，一般用于占位\n",
    "# pass没有跳过功能\n",
    "\n",
    "for i in range(1,11):\n",
    "    pass #没有跳过功能，只是用于占位\n",
    "    print(i)"
   ]
  },
  {
   "cell_type": "markdown",
   "metadata": {},
   "source": [
    "## while循环\n",
    "- 一个循环语句\n",
    "- 表示当某条件成立的时候，就循环\n",
    "- 不知道具体循环次数，但能确定循环的成立条件的时候用while循环\n",
    "- while语法：\n",
    "\n",
    "      while 条件表达式：\n",
    "          语句块\n",
    "- 另外一种表达方法\n",
    "      \n",
    "      while  条件表达式：\n",
    "          语句块1\n",
    "      else：\n",
    "          语句块2"
   ]
  },
  {
   "cell_type": "code",
   "execution_count": 38,
   "metadata": {},
   "outputs": [
    {
     "name": "stdout",
     "output_type": "stream",
     "text": [
      "第1年本金213400.0块钱，收益13400.0块钱\n",
      "第2年本金227697.8块钱，收益14297.800000000001块钱\n",
      "第3年本金242953.5526块钱，收益15255.7526块钱\n",
      "第4年本金259231.44062419998块钱，收益16277.888024200001块钱\n",
      "第5年本金276599.9471460214块钱，收益17368.5065218214块钱\n",
      "第6年本金295132.1436048049块钱，收益18532.196458783437块钱\n",
      "第7年本金314905.9972263268块钱，收益19773.85362152193块钱\n",
      "第8年本金336004.69904049067块钱，收益21098.701814163895块钱\n",
      "第9年本金358517.01387620356块钱，收益22512.314835712878块钱\n",
      "第10年本金382537.6538059092块钱，收益24020.63992970564块钱\n",
      "第11年本金408167.67661090515块钱，收益25630.02280499592块钱\n"
     ]
    }
   ],
   "source": [
    "# 如果说年利率是6.7%，本利是每年翻滚， 则多少年后本钱会翻倍\n",
    "\n",
    "principal = 200000\n",
    "rate = 0.067\n",
    "total = principal\n",
    "year = 0\n",
    "while total <= principal * 2:\n",
    "    interest = total * rate\n",
    "    total += interest\n",
    "    year += 1\n",
    "    print(\"第{0}年本金{1}块钱，收益{2}块钱\".format(year,total,interest))"
   ]
  },
  {
   "cell_type": "code",
   "execution_count": 31,
   "metadata": {},
   "outputs": [
    {
     "name": "stdout",
     "output_type": "stream",
     "text": [
      "第 1 年拿了 106700.0 块钱\n",
      "第 2 年拿了 113848.9 块钱\n",
      "第 3 年拿了 121476.77629999998 块钱\n",
      "第 4 年拿了 129615.72031209998 块钱\n",
      "第 5 年拿了 138299.97357301068 块钱\n",
      "第 6 年拿了 147566.07180240238 块钱\n",
      "第 7 年拿了 157452.99861316333 块钱\n",
      "第 8 年拿了 168002.34952024528 块钱\n",
      "第 9 年拿了 179258.5069381017 块钱\n",
      "第 10 年拿了 191268.8269029545 块钱\n",
      "第 11 年拿了 204083.83830545243 块钱\n"
     ]
    }
   ],
   "source": [
    "# 如果说年利率是6.7%，本利是每年翻滚， 则多少年后本钱会翻倍\n",
    "# 如果拿到的钱翻倍，则用print庆祝一下\n",
    "benqian = 100000\n",
    "year = 0\n",
    "while benqian < 200000:\n",
    "    benqian = benqian * (1+0.067)\n",
    "    year += 1 # year = year + 1\n",
    "    print(\"第 {0} 年拿了 {1} 块钱\".format(year, benqian))"
   ]
  }
 ],
 "metadata": {
  "kernelspec": {
   "display_name": "Python 3",
   "language": "python",
   "name": "python3"
  },
  "language_info": {
   "codemirror_mode": {
    "name": "ipython",
    "version": 3
   },
   "file_extension": ".py",
   "mimetype": "text/x-python",
   "name": "python",
   "nbconvert_exporter": "python",
   "pygments_lexer": "ipython3",
   "version": "3.6.5"
  }
 },
 "nbformat": 4,
 "nbformat_minor": 2
}
