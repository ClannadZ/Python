{
 "cells": [
  {
   "cell_type": "markdown",
   "metadata": {},
   "source": [
    "# 集合-set\n",
    "\n",
    "## 集合的创建\n",
    "- 创建空集合\n",
    " \n",
    "         s = set()\n",
    "- 创建一个或多个值的元组\n",
    "          \n",
    "         s = {v1,v2,v3,...}\n",
    "\n",
    "- 使用其他结构创建\n",
    "  \n",
    "         s = set(type_v)"
   ]
  },
  {
   "cell_type": "code",
   "execution_count": 35,
   "metadata": {},
   "outputs": [
    {
     "name": "stdout",
     "output_type": "stream",
     "text": [
      "s =  set() type = <class 'set'>\n",
      "s1 =  {1} type = <class 'set'>\n",
      "s2 =  {1, 2, 3, 4, 5} type = <class 'set'>\n",
      "s5 =  {1, 2, 3, 4} type = <class 'set'>\n",
      "s4 =  {1, 2, 3, 4, 5} type = <class 'set'>\n"
     ]
    }
   ],
   "source": [
    "# 集合的创建\n",
    "s = set()\n",
    "print(\"s = \", s, \"type =\", type(s))\n",
    "\n",
    "s1 = {1}\n",
    "s2 = {1, 2, 3, 4, 5}\n",
    "l = [1,2,3,4,3,4]\n",
    "t = (1,2,3,4,5)\n",
    "s5 = set([1,2,3,4,3,4])\n",
    "s4 = set(t)\n",
    "print(\"s1 = \", s1, \"type =\", type(s1))\n",
    "print(\"s2 = \", s2, \"type =\", type(s2))\n",
    "print(\"s5 = \", s5, \"type =\", type(s5))\n",
    "print(\"s4 = \", s4, \"type =\", type(s4))"
   ]
  },
  {
   "cell_type": "code",
   "execution_count": 7,
   "metadata": {},
   "outputs": [
    {
     "name": "stdout",
     "output_type": "stream",
     "text": [
      "d = {} type = <class 'dict'>\n"
     ]
    }
   ],
   "source": [
    "# 如果只用大括号定义，则定义的是一个dict类型\n",
    "d = {}\n",
    "print(\"d =\", d, \"type =\", type(d))"
   ]
  },
  {
   "cell_type": "markdown",
   "metadata": {},
   "source": [
    "## 集合的特征\n",
    "- 集合内数据无序，即无法使用索引和分片\n",
    "- 集合内部数据元素具有唯一性，可以用来排除重复数据\n",
    "- 集合内的数据，str, int, float, tuple,冰冻集合等，即内部只能放置可哈希的数据"
   ]
  },
  {
   "cell_type": "markdown",
   "metadata": {},
   "source": [
    "## 集合相关操作\n",
    "- 成员检测 in, not in\n",
    "- 集合遍历 for循环\n",
    "- 集合的内涵   "
   ]
  },
  {
   "cell_type": "code",
   "execution_count": 3,
   "metadata": {},
   "outputs": [
    {
     "name": "stdout",
     "output_type": "stream",
     "text": [
      "s = {'am', 4, 5, 'a', 'I', 'girl'}\n",
      "lovt not in Set s\n"
     ]
    }
   ],
   "source": [
    "# 成员检测\n",
    "# in, not in\n",
    "\n",
    "s = {4, 5, \"I\", \"am\", \"a\", \"girl\"}\n",
    "print(\"s =\", s)\n",
    "\n",
    "if \"love\" in s:\n",
    "    print(\"love in Set s\")\n",
    "else:\n",
    "    print(\"lovt not in Set s\")"
   ]
  },
  {
   "cell_type": "code",
   "execution_count": 4,
   "metadata": {},
   "outputs": [
    {
     "name": "stdout",
     "output_type": "stream",
     "text": [
      "am 4 5 a I girl "
     ]
    }
   ],
   "source": [
    "# for循环\n",
    "s = {4, 5, \"I\", \"am\", \"a\", \"girl\"}\n",
    "for i in s:\n",
    "    print(i, end=\" \")"
   ]
  },
  {
   "cell_type": "code",
   "execution_count": 7,
   "metadata": {},
   "outputs": [
    {
     "name": "stdout",
     "output_type": "stream",
     "text": [
      "i -- love -- happy\n",
      "4 -- 5 -- 6\n",
      "1 -- 2 -- 3\n",
      "('i', 'love', 'happy') (4, 5, 6) (1, 2, 3) "
     ]
    }
   ],
   "source": [
    "# 带有元组的集合遍历\n",
    "\n",
    "s = {(1,2,3),(\"i\",\"love\",\"happy\"),(4,5,6)}\n",
    "for k,m,n in s:\n",
    "    print(k,\"--\",m,\"--\",n)\n",
    "    \n",
    "for k in s:\n",
    "    print(k, end=\" \")"
   ]
  },
  {
   "cell_type": "code",
   "execution_count": 11,
   "metadata": {},
   "outputs": [
    {
     "name": "stdout",
     "output_type": "stream",
     "text": [
      "s1 = {545, 1, 3, 2, 4, 23, 223}\n",
      "s2=  {545, 2, 3, 4, 1, 23, 223}\n",
      "s3 = {2, 4}\n",
      "s6 = {'am', 'II', 'happyhappyhappyhappy', 'amamam', 'III', 'happyhappyhappy', 'I', 'amamamam', 'happy', 'happyhappy', 'amam', 'IIII'}\n",
      "s7 = {'happyhappy', 'amam', 'II'}\n"
     ]
    }
   ],
   "source": [
    "# 普通集合的内涵\n",
    "# 以下集合在初始化后自动过滤掉重复元素\n",
    "s1 = {23,223,545,3,1,2,3,4,3,2,3,1,2,4,3}\n",
    "print(\"s1 =\", s1)\n",
    "\n",
    "# 普通集合内涵\n",
    "s2 = {i for i in s}\n",
    "print(\"s2= \", s2)\n",
    "\n",
    "# 带条件的集合内涵\n",
    "s3 = {i for i in s if i % 2 == 0}\n",
    "print(\"s3 =\", s3)\n",
    "\n",
    "# 多循环的集合内涵\n",
    "s4 = {1,2,3,4}\n",
    "s5 = {\"I\", \"am\", \"happy\"}\n",
    "\n",
    "s6 = {m * n for m in s5 for n in s4}\n",
    "print(\"s6 =\", s6)\n",
    "\n",
    "s7 = {m * n for m in s5 for n in s4 if n == 2}\n",
    "print(\"s7 =\", s7)"
   ]
  },
  {
   "cell_type": "markdown",
   "metadata": {},
   "source": [
    "## 集合相关函数\n",
    "- len(set) 获取集合的长度\n",
    "- max(set) 获取集合中最大值\n",
    "- min(set) 获取集合中最小值\n",
    "- set(type_v) 生成一个集合\n",
    "- set.add(data) 向集合内添加元素\n",
    "- set.clear()  清空集合，地址保持不变\n",
    "- set.copy():拷贝\n",
    "- set.remove(data):移除制定的值，直接改变原有值，如果要删除的值不存在，报错\n",
    "- set.discard(data):移除集合中指定的值，跟remove一样，但是如果要删除的值不存在，不报错\n",
    "- set.pop() 随机移除一个元素\n",
    "- set.intersection(set): 交集\n",
    "- set.difference(set):差集  相当于set1 - set2\n",
    "- set.union(set): 并集\n",
    "- set.issubset(set): 检查一个集合是否为另一个子集\n",
    "- set.issuperset(set): 检查一个集合是否为另一个超集"
   ]
  },
  {
   "cell_type": "code",
   "execution_count": 17,
   "metadata": {},
   "outputs": [
    {
     "name": "stdout",
     "output_type": "stream",
     "text": [
      "len(s) = 6\n",
      "max(s) = 6\n",
      "min(s) = 1\n",
      "Before s.add(8) = {1, 2, 3, 4, 5, 6} , id(s) = 2175325516968\n",
      "After s.add(8) = {1, 2, 3, 4, 5, 6, 8} , id(s) = 2175325516968\n",
      "After s.clear() set() , id(s) = 2175325516968\n"
     ]
    }
   ],
   "source": [
    "# len, max, min, add, clear(原地清空，即地址不变)\n",
    "\n",
    "s = {1,2,3,4,5,6}\n",
    "print(\"len(s) =\", len(s))\n",
    "print(\"max(s) =\", max(s))\n",
    "print(\"min(s) =\", min(s))\n",
    "print(\"Before s.add(8) =\", s, \", id(s) =\", id(s))\n",
    "s.add(8)\n",
    "print(\"After s.add(8) =\", s, \", id(s) =\", id(s))\n",
    "s.clear()\n",
    "print(\"After s.clear()\", s, \", id(s) =\", id(s))"
   ]
  },
  {
   "cell_type": "code",
   "execution_count": 19,
   "metadata": {},
   "outputs": [
    {
     "name": "stdout",
     "output_type": "stream",
     "text": [
      "s = {1, 2, 3, 4, 23}\n"
     ]
    }
   ],
   "source": [
    "# set:生成一个集合\n",
    "l = [1,2,3,4,3,23,1,2,3,4]\n",
    "s = set(l)\n",
    "print(\"s =\", s)"
   ]
  },
  {
   "cell_type": "code",
   "execution_count": 20,
   "metadata": {},
   "outputs": [
    {
     "name": "stdout",
     "output_type": "stream",
     "text": [
      "s = {1, 2, 3, 4, 5, 23}\n",
      "***** remove(4) *****\n",
      "s = {1, 2, 3, 5, 23}\n",
      "***** discard(1) *****\n",
      "s = {2, 3, 5, 23}\n",
      "***** discard(1100) *****\n",
      "s = {2, 3, 5, 23}\n",
      "***** remove(1100) *****\n"
     ]
    },
    {
     "ename": "KeyError",
     "evalue": "1100",
     "output_type": "error",
     "traceback": [
      "\u001b[1;31m---------------------------------------------------------------------------\u001b[0m",
      "\u001b[1;31mKeyError\u001b[0m                                  Traceback (most recent call last)",
      "\u001b[1;32m<ipython-input-20-23d5c6604b79>\u001b[0m in \u001b[0;36m<module>\u001b[1;34m()\u001b[0m\n\u001b[0;32m     18\u001b[0m \u001b[1;33m\u001b[0m\u001b[0m\n\u001b[0;32m     19\u001b[0m \u001b[0mprint\u001b[0m\u001b[1;33m(\u001b[0m\u001b[1;34m\"*\"\u001b[0m \u001b[1;33m*\u001b[0m \u001b[1;36m5\u001b[0m\u001b[1;33m,\u001b[0m \u001b[1;34m\"remove(1100)\"\u001b[0m\u001b[1;33m,\u001b[0m \u001b[1;34m\"*\"\u001b[0m \u001b[1;33m*\u001b[0m \u001b[1;36m5\u001b[0m\u001b[1;33m)\u001b[0m\u001b[1;33m\u001b[0m\u001b[0m\n\u001b[1;32m---> 20\u001b[1;33m \u001b[0ms\u001b[0m\u001b[1;33m.\u001b[0m\u001b[0mremove\u001b[0m\u001b[1;33m(\u001b[0m\u001b[1;36m1100\u001b[0m\u001b[1;33m)\u001b[0m\u001b[1;33m\u001b[0m\u001b[0m\n\u001b[0m\u001b[0;32m     21\u001b[0m \u001b[0mprint\u001b[0m\u001b[1;33m(\u001b[0m\u001b[1;34m\"s =\"\u001b[0m\u001b[1;33m,\u001b[0m \u001b[0ms\u001b[0m\u001b[1;33m)\u001b[0m\u001b[1;33m\u001b[0m\u001b[0m\n\u001b[0;32m     22\u001b[0m \u001b[1;33m\u001b[0m\u001b[0m\n",
      "\u001b[1;31mKeyError\u001b[0m: 1100"
     ]
    }
   ],
   "source": [
    "# copy:拷贝\n",
    "# remove:移除制定的值，直接改变原有值，如果要删除的值不存在，报错\n",
    "# discard:移除集合中指定的值，跟remove一样，但是如果要删除的值不存在的话，不报错\n",
    "s = {23,3,4,5,1,2,3}\n",
    "print(\"s =\", s)\n",
    "\n",
    "print(\"*\" * 5, \"remove(4)\", \"*\" * 5)\n",
    "s.remove(4)\n",
    "print(\"s =\", s)\n",
    "\n",
    "print(\"*\" * 5, \"discard(1)\", \"*\" * 5)\n",
    "s.discard(1)\n",
    "print(\"s =\", s)\n",
    "\n",
    "print(\"*\" * 5, \"discard(1100)\", \"*\" * 5)\n",
    "s.discard(1100)\n",
    "print(\"s =\", s)\n",
    "\n",
    "print(\"*\" * 5, \"remove(1100)\", \"*\" * 5)\n",
    "s.remove(1100)   # KeyError: 1100\n",
    "\n",
    "print(\"s =\", s)\n",
    "\n",
    "# 为什么remove不存在的值会报Keyerror"
   ]
  },
  {
   "cell_type": "code",
   "execution_count": 26,
   "metadata": {},
   "outputs": [
    {
     "name": "stdout",
     "output_type": "stream",
     "text": [
      "s = {3, 4, 5, 6, 7}\n",
      "d = 3\n",
      "s = {4, 5, 6, 7}\n"
     ]
    }
   ],
   "source": [
    "# pop 随机移除一个元素\n",
    "s = {3,4,5,4,5,6,7}\n",
    "print(\"s =\", s)\n",
    "d = s.pop()\n",
    "print(\"d =\", d)\n",
    "print(\"s =\", s)"
   ]
  },
  {
   "cell_type": "code",
   "execution_count": 31,
   "metadata": {},
   "outputs": [
    {
     "name": "stdout",
     "output_type": "stream",
     "text": [
      "s1 = {1, 2, 3, 4, 5, 6}\n",
      "s2 = {5, 6, 7, 8, 9}\n",
      "intersection = {5, 6}\n",
      "difference = {1, 2, 3, 4}\n",
      "union = {1, 2, 3, 4, 5, 6, 7, 8, 9}\n",
      "issubset = False\n"
     ]
    }
   ],
   "source": [
    "# 集合函数\n",
    "# intersection: 交集\n",
    "# difference:差集\n",
    "# union: 并集\n",
    "# issubset: 检查一个集合是否为另一个子集\n",
    "# issuperset: 检查一个集合是否为另一个超集\n",
    "s1 = {1,2,3,4,5,6}\n",
    "s2 = {5,6,7,8,9}\n",
    "\n",
    "s_1 = s1.intersection(s2)\n",
    "print(\"s1 =\", s1)\n",
    "print(\"s2 =\", s2)\n",
    "print(\"intersection =\", s_1)\n",
    "\n",
    "s_2 = s1.difference(s2)\n",
    "print(\"difference =\", s_2)\n",
    "\n",
    "s_3 = s1.union(s2)\n",
    "print(\"union =\", s_3)\n",
    "\n",
    "s_4 = s1.issubset(s2)\n",
    "print(\"issubset =\", s_4)"
   ]
  },
  {
   "cell_type": "markdown",
   "metadata": {},
   "source": [
    "## 冰冻集合 forzen set\n",
    "- 不可以进行任何修改的集合\n",
    "- forzenset 是一种特殊的集合\n",
    "- 语法：\n",
    "    \n",
    "        s = frozenset()"
   ]
  },
  {
   "cell_type": "code",
   "execution_count": 32,
   "metadata": {},
   "outputs": [
    {
     "name": "stdout",
     "output_type": "stream",
     "text": [
      "s = frozenset() , type = <class 'frozenset'>\n"
     ]
    }
   ],
   "source": [
    "# 创建\n",
    "s = frozenset()\n",
    "print(\"s =\", s, \", type =\", type(s))"
   ]
  }
 ],
 "metadata": {
  "kernelspec": {
   "display_name": "Python 3",
   "language": "python",
   "name": "python3"
  },
  "language_info": {
   "codemirror_mode": {
    "name": "ipython",
    "version": 3
   },
   "file_extension": ".py",
   "mimetype": "text/x-python",
   "name": "python",
   "nbconvert_exporter": "python",
   "pygments_lexer": "ipython3",
   "version": "3.6.5"
  }
 },
 "nbformat": 4,
 "nbformat_minor": 2
}
