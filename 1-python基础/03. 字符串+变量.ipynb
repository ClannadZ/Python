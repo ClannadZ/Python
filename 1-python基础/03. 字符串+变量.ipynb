{
 "cells": [
  {
   "cell_type": "markdown",
   "metadata": {},
   "source": [
    "# 字符串\n",
    "\n",
    "## 转义字符\n",
    "- 用一个特殊的方法表示出一系列不方便写出的字符，比如回车键，换行键，退格键\n",
    "- 借助反斜杠字符进行转义\n",
    "- 不同系统对换行操作有不同的表示\n",
    "    - Windows: \\n\n",
    "    - Linux: \\r\\n"
   ]
  },
  {
   "cell_type": "code",
   "execution_count": 11,
   "metadata": {},
   "outputs": [
    {
     "name": "stdout",
     "output_type": "stream",
     "text": [
      "Let's go.\n",
      "Let's go.\n",
      "c:\\user\n",
      "I want \r\n",
      " to go home.\n"
     ]
    }
   ],
   "source": [
    "s = \"Let's go.\"\n",
    "print(s)\n",
    "\n",
    "# \\' 表示的是 '字符\n",
    "ss = 'Let\\'s go.'\n",
    "print(ss)\n",
    "\n",
    "# \\\\ 表示的是 \\字符\n",
    "sss = 'c:\\\\user'\n",
    "print(sss)\n",
    "\n",
    "# 回车换行符\n",
    "ssss = 'I want \\r\\n to go home.'\n",
    "print(ssss) "
   ]
  },
  {
   "cell_type": "markdown",
   "metadata": {},
   "source": [
    "## 格式化\n",
    "- 把字符串按照一定格式进行打印或者填充\n",
    "- 格式化有两种方法：\n",
    "    - 利用百分号（%）\n",
    "        - 在字符串中，利用%表示一个特殊的含义，表示对字符进行格式化\n",
    "        - %d： 此处应该放入一个整数\n",
    "        - %s： 表示此处应该放入一个字符串\n",
    "        - 如果字符串中出现多个占位符，则有几个占位符必须用几个实际内容代替（则相应内容需要用括号起来），或者一个也不要\n",
    "        \n",
    "    - 利用format函数（推荐）\n",
    "        - 直接用format函数进行格式化\n",
    "        - 在使用上，以{},{n}和：代替上述%号，后面用format带参数完成\n",
    "        - n表示位于format函数中的第几个参数，从0开始"
   ]
  },
  {
   "cell_type": "code",
   "execution_count": 12,
   "metadata": {},
   "outputs": [
    {
     "name": "stdout",
     "output_type": "stream",
     "text": [
      "I am 18 years old, my name is clan, I love China\n"
     ]
    }
   ],
   "source": [
    "# 利用百分号进行格式化\n",
    "# 如果字符串中有占位符，则有几个占位符必须用几个实际内容代替，或者一个也不要\n",
    "# 如果出现多个占位符，则相应内容需要用括号起来\n",
    "\n",
    "s = 'I am %d years old, my name is %s, I love %s'\n",
    "print(s%(18,'clan','China'))"
   ]
  },
  {
   "cell_type": "code",
   "execution_count": 13,
   "metadata": {},
   "outputs": [
    {
     "name": "stdout",
     "output_type": "stream",
     "text": [
      "I love China\n",
      "I am 18 years old, I love China and I am 18 years old\n"
     ]
    }
   ],
   "source": [
    "# 利用format函数格式化字符串\n",
    "s = \"I love {}\".format(\"China\")\n",
    "print(s)\n",
    "s = \"I am {1} years old, I love {0} and I am {1} years old\".format(\"China\", 18)\n",
    "print(s)"
   ]
  },
  {
   "cell_type": "markdown",
   "metadata": {},
   "source": [
    "## 内建函数（后延）\n",
    "\n",
    "\n",
    "## None\n",
    "- 表示什么都没有\n",
    "- 如果函数没有返回值，可以返回 None\n",
    "- 用来占位置\n",
    "- 用来解除变量绑定\n"
   ]
  },
  {
   "cell_type": "markdown",
   "metadata": {},
   "source": [
    "# 表达式\n",
    "- 由一个或者几个数字或者变量和运算符组合成的一行代码\n",
    "- 通常会返回一个结果\n",
    "\n",
    "# 运算符\n",
    "- http://www.runoob.com/python/python-operators.html\n",
    "- 有一个以上的值经过变化得到新值的过程叫做运算\n",
    "- 用于运算的符号叫运算符\n",
    "\n",
    "## 运算符分类：\n",
    "- 算数运算符\n",
    "    - 进行算数运算的符号\n",
    "    - python没有自增自减运算符\n",
    "    - +，- ，* ，/ ，% 取余，// 取商，** 幂\n",
    "    \n",
    "- 比较或关系运算符\n",
    "    - 对两个变量或者值进行比较的运算符\n",
    "    - 比较的结果是布尔值，即True/False\n",
    "    - ==，!= <>，>，<，>=，<=\n",
    "    \n",
    "- 赋值运算符\n",
    "    - =，+=，-=，*=，/=，%=，//=，**= \n",
    "    \n",
    "- 逻辑运算符\n",
    "    - 对布尔值进行计算的符号\n",
    "    - and, or, not\n",
    "    - python中没有异或运算符\n",
    "    - 运算规则：\n",
    "        - and看作乘法，or看作加法， True看作1， False看作0\n",
    "        - 则逻辑运算就能转换成整数数学运算\n",
    "        - 最后结果如果是0则为False，否则为True\n",
    "    - 逻辑运算的短路问题\n",
    "        - 按照运算顺序计算，一旦能够确定整个式子的值，则不再进行计算，直接返回结果\n",
    "\n",
    "- 位运算符\n",
    "    - 是把数字看作二进制来进行计算的\n",
    "    - &，|，^，~，<<，>>\n",
    "    \n",
    "- 成员运算符\n",
    "    - 用来检测某一个变量是否是另一个变量的成员\n",
    "    - 比较的结果是布尔值，即True/False\n",
    "    - in 如果在指定的序列中找到值返回 True，否则返回 False。\n",
    "    - not in 如果在指定的序列中没有找到值返回 True，否则返回 False。\n",
    "\n",
    "- 身份运算符\n",
    "    - 用来检测两个变量是否是同一个变量\n",
    "    - 比较的结果是布尔值，即True/False\n",
    "    - is 是判断两个标识符是不是引用自一个对象\n",
    "    - is not 是判断两个标识符是不是引用自不同对象\n",
    "    \n",
    "## 运算符的优先级\n",
    "- 括号具有最高优先级\n",
    "- 优先级表格\n",
    "    - **\t指数 (最高优先级)\n",
    "    - ~，+，-\t按位翻转, 一元加号和减号 (最后两个的方法名为 +@ 和 -@)\n",
    "    - *，/，%，//\t乘，除，取模和取整除\n",
    "    - +，-\t加法减法\n",
    "    - <<，>> \t左移，右移运算符\n",
    "    - &\t位 'AND'\n",
    "    - ^，|\t位运算符\n",
    "    - <=，<，>，>=\t比较运算符\n",
    "    - <>，==，!=\t等于运算符\n",
    "    - =，%=，/=，//=，-=，+=，*=，**=\t赋值运算符\n",
    "    - is，is not\t身份运算符\n",
    "    - in，not in\t成员运算符\n",
    "    - not，and，or\t逻辑运算符"
   ]
  }
 ],
 "metadata": {
  "kernelspec": {
   "display_name": "Python 3",
   "language": "python",
   "name": "python3"
  },
  "language_info": {
   "codemirror_mode": {
    "name": "ipython",
    "version": 3
   },
   "file_extension": ".py",
   "mimetype": "text/x-python",
   "name": "python",
   "nbconvert_exporter": "python",
   "pygments_lexer": "ipython3",
   "version": "3.6.5"
  }
 },
 "nbformat": 4,
 "nbformat_minor": 2
}
