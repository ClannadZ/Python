{
 "cells": [
  {
   "cell_type": "markdown",
   "metadata": {},
   "source": [
    "# 内置数据结构（变量类型）\n",
    "- list\n",
    "- set\n",
    "- dict\n",
    "- tuple\n",
    "\n",
    "## list（列表）\n",
    "- 一组有顺序的数据的组合\n",
    "- 创建列表\n",
    "    - 空列表           \n",
    "            \n",
    "            l = \\[\\]  or  l = list()\n",
    "    - 创建带一个或多个值的列表    \n",
    "            \n",
    "            l = \\[v1,v2,v3,...\\]   \n",
    "    - 使用其他结构创建\n",
    "    \n",
    "            l = list(type_v)    "
   ]
  },
  {
   "cell_type": "code",
   "execution_count": 2,
   "metadata": {},
   "outputs": [
    {
     "name": "stdout",
     "output_type": "stream",
     "text": [
      "<class 'list'> []\n",
      "<class 'list'> [100]\n",
      "<class 'list'> [2, 3, 1, 4, 6, 4, 6]\n",
      "<class 'list'> []\n",
      "<class 'list'> [1, 2, 3, 4, 5]\n"
     ]
    }
   ],
   "source": [
    "# 1. 创建空列表\n",
    "l1 = []\n",
    "\n",
    "# type是内置函数，负责打印出变量的类型\n",
    "print(type(l1),l1,sep=\" \")\n",
    "\n",
    "# 2. 创建带值的列表\n",
    "l2 = [100]\n",
    "print(type(l2),l2,sep=\" \")\n",
    "\n",
    "# 3. 创建列表带多个值\n",
    "l3 = [2,3,1,4,6,4,6]\n",
    "print(type(l3),l3,sep=\" \")\n",
    "\n",
    "# 4. 使用list()\n",
    "l4 = list()\n",
    "print(type(l4),l4,sep=\" \")\n",
    "\n",
    "t = (1,2,3,4,5)\n",
    "l5 = list(t)\n",
    "print(type(l5),l5,sep=\" \")"
   ]
  },
  {
   "cell_type": "markdown",
   "metadata": {},
   "source": [
    "## 列表常用操作\n",
    "### 访问\n",
    "- 使用下标操作（索引）\n",
    "- 列表的位置是从0开始  \n",
    "- list_name\\[index\\]\n",
    "\n",
    "### 分片操作\n",
    "- 对列表进行任意一段的截取     list_name\\[左下标:右下标:增幅\\]   左闭右开\n",
    "- 截取范围包含左边的下标值，不包含右边的下标值\n",
    "- 下标值可以为空，如果不写，左边下标值默认为0，右边下标值为列表长度减1，即表示截取到最后一个数据\n",
    "- 下标可以超出范围，超出后不在考虑多余下标内容\n",
    "- 下标值可以为负数，此时规定：数组最后一个数字的下标是-1\n",
    "- 分片可以控制增长幅度，默认增长幅度为1，增长幅度可以为负数，此时表明顺序是从右往左\n",
    "- 分片操作是生产一个新的list （内置函数id，负责显示一个变量或者数据的唯一确定编号）"
   ]
  },
  {
   "cell_type": "code",
   "execution_count": 15,
   "metadata": {},
   "outputs": [
    {
     "name": "stdout",
     "output_type": "stream",
     "text": [
      "1\n",
      "[1, 2, 3]\n",
      "[0, 1, 2, 3, 4, 5, 6, 7]\n",
      "[0, 1, 2, 3]\n",
      "[2, 3, 4, 5, 6, 7]\n",
      "[1, 2, 3, 4, 5]\n",
      "[1, 3, 5]\n",
      "[2, 3, 4, 5, 6, 7]\n",
      "[7]\n",
      "[]\n",
      "[4, 5]\n",
      "[6, 5]\n"
     ]
    }
   ],
   "source": [
    "# 下标访问列表\n",
    "l = [0,1,2,3,4,5,6,7]\n",
    "print(l[1])\n",
    "\n",
    "# 分片操作\n",
    "# 注意截取范围，包含左边的下标值，不包含右边的下标值\n",
    "print(l[1:4])\n",
    "\n",
    "# 下标值可以为空，如果不写，左边下标值默认为0，右边下标值为列表长度减1，即表示截取到最后一个数据\n",
    "print(l[:])\n",
    "print(l[:4])\n",
    "print(l[2:])\n",
    "\n",
    "# 分片可以控制增长幅度，默认增长幅度为1\n",
    "print(l[1:6:1])\n",
    "print(l[1:6:2])\n",
    "\n",
    "# 下标可以超出范围，超出后不在考虑多余下标内容\n",
    "print(l[2:11])\n",
    "print(l[-1:10])\n",
    "\n",
    "# 下标值，增长幅度可以为负数\n",
    "# 为负数，表明顺序是从右往左\n",
    "# 规定：数组最后一个数字的下标是-1\n",
    "print(l[-2:-4]) # 显示为空，因为默认分片总是从左向右截取，即正常情况，分片左边的值一定要小于右边的值\n",
    "print(l[-4:-2])\n",
    "print(l[-2:-4:-1])# 如果分片一定左边值比右边打，则增幅参数需使用负数, 此案例为一个list直接正反颠倒提供了一种思路\n"
   ]
  },
  {
   "cell_type": "code",
   "execution_count": 22,
   "metadata": {},
   "outputs": [
    {
     "name": "stdout",
     "output_type": "stream",
     "text": [
      "2385573597256\n",
      "2385573605128\n",
      "2385573605128\n",
      "[3, 100, 56, 76, 32, 21, 43, 5]\n",
      "[3, 4, 56, 76, 32, 21, 43, 5]\n",
      "[3, 100, 56, 76, 32, 21, 43, 5]\n",
      "[3, 100, 56, 76, 32, 21, 43, 5]\n"
     ]
    }
   ],
   "source": [
    "# 通过id可以直接判断出分片是从新生成了一份数据还是使用的同一份数据\n",
    "l = [3,4,56,76,32,21,43,5]\n",
    "l1 = l[:]\n",
    "l2 = l1\n",
    "# 如果两个id值一样，则表明分片产生的列表是使用的同一地址同一份数据\n",
    "# 否则，则表明分片是从新生成了一份数据，即一个新的列表，然后把数值拷贝到新列表中\n",
    "print(id(l))\n",
    "print(id(l1))\n",
    "print(id(l2))\n",
    "\n",
    "# 通过id知道，ll和lll是同一份数据，验证代码如下\n",
    "l[1] = 100\n",
    "print(l)\n",
    "print(l1)\n",
    "\n",
    "l1[1] = 100\n",
    "print(l1)\n",
    "print(l2)"
   ]
  },
  {
   "cell_type": "code",
   "execution_count": 1,
   "metadata": {},
   "outputs": [
    {
     "name": "stdout",
     "output_type": "stream",
     "text": [
      "1959032992\n",
      "1959036192\n",
      "1959032992\n",
      "101 100\n",
      "1959033024\n",
      "1959032992\n",
      "3028342044168\n",
      "3028342044104\n",
      "3028342044104\n"
     ]
    }
   ],
   "source": [
    "# id函数举例\n",
    "a = 100\n",
    "b = 200\n",
    "print(id(a))\n",
    "print(id(b))\n",
    "\n",
    "c = a\n",
    "print(id(c))\n",
    "\n",
    "# 如果a跟c指向一份数据，则更改a的值同样也会更改c的值\n",
    "# 但是显示结果并非如此，为什么？\n",
    "a = 101\n",
    "print(a,c,sep= \" \")\n",
    "print(id(a))\n",
    "print(id(c))\n",
    "\n",
    "# 通过id可以直接\n",
    "l = [1,2,3,4,5,6,7,8]\n",
    "l1 = l[:]\n",
    "l2 = l1\n",
    "print(id(l))\n",
    "print(id(l1))\n",
    "print(id(l2))"
   ]
  },
  {
   "cell_type": "markdown",
   "metadata": {},
   "source": [
    "### 列表删除\n",
    "- 语法\n",
    "    \n",
    "        del list_name[index]   //删除列表中某一个元素\n",
    "        del var_name           //删除某一个变量，此后不能继续使用"
   ]
  },
  {
   "cell_type": "code",
   "execution_count": 21,
   "metadata": {},
   "outputs": [
    {
     "name": "stdout",
     "output_type": "stream",
     "text": [
      "删除前：id -  3028341161160 ,value -  [1, 2, 3, 4, 5, 6]\n",
      "删除后：id -  3028341161160 ,value -  [1, 2, 4, 5, 6]\n"
     ]
    }
   ],
   "source": [
    "# 列表删除示例\n",
    "\n",
    "# 如果使用del之后，id的值和删除前不一样，则说明删除生成了一个新的list\n",
    "a = [1,2,3,4,5,6]\n",
    "print(\"删除前：id - \", id(a), \",value - \", a)\n",
    "del a[2]\n",
    "print(\"删除后：id - \", id(a), \",value - \", a)\n",
    "\n",
    "# del一个变量后不能在继续使用此变量\n",
    "del  a\n",
    "#print(a)   # NameError: name 'a' is not defined"
   ]
  },
  {
   "cell_type": "markdown",
   "metadata": {},
   "source": [
    "### 列表相加\n",
    "- 使用加号链接两个列表\n",
    "- 语法\n",
    "    \n",
    "        list1 + list2 + ..."
   ]
  },
  {
   "cell_type": "code",
   "execution_count": 7,
   "metadata": {},
   "outputs": [
    {
     "name": "stdout",
     "output_type": "stream",
     "text": [
      "连接后：id -  3028340769096 ,value -  [1, 2, 3, 4, 5, 5, 6, 7, 8, 9, 'a', 'b', 'c']\n"
     ]
    }
   ],
   "source": [
    "# 列表相加示例\n",
    "a = [1,2,3,4,5]\n",
    "b = [5,6,7,8,9]\n",
    "c = ['a', 'b', 'c']\n",
    "\n",
    "d = a + b + c\n",
    "print(\"连接后：id - \", id(d), \",value - \", d)"
   ]
  },
  {
   "cell_type": "markdown",
   "metadata": {},
   "source": [
    "### 列表相乘\n",
    "- 使用乘号操作列表，列表直接跟一个整数相乘，相当于把n个列表接在一起\n",
    "- 语法\n",
    "       \n",
    "       list * n  # 相当于把n个list链接在一起"
   ]
  },
  {
   "cell_type": "code",
   "execution_count": 20,
   "metadata": {},
   "outputs": [
    {
     "name": "stdout",
     "output_type": "stream",
     "text": [
      "相乘后：id -  3028341265352 ,value -  [1, 2, 3, 4, 5, 1, 2, 3, 4, 5, 1, 2, 3, 4, 5]\n"
     ]
    }
   ],
   "source": [
    "# 列表相乘示例\n",
    "\n",
    "a = [1,2,3,4,5]\n",
    "\n",
    "b = a * 3\n",
    "print(\"相乘后：id - \", id(b), \",value - \", b)"
   ]
  },
  {
   "cell_type": "markdown",
   "metadata": {},
   "source": [
    "### 成员资格运算\n",
    "- 语法\n",
    "\n",
    "        value in list        //判断一个元素是否在list里边\n",
    "        value not in list    //判断一个元素是否不在list里边"
   ]
  },
  {
   "cell_type": "code",
   "execution_count": 22,
   "metadata": {},
   "outputs": [
    {
     "name": "stdout",
     "output_type": "stream",
     "text": [
      "b是a的成员： False\n",
      "b是a的成员： True\n",
      "b不是a的成员： True\n"
     ]
    }
   ],
   "source": [
    "# 成员资格运算\n",
    "# 就是判断一个元素是否在爱list里边\n",
    "a = [1,2,3,4,5,6]\n",
    "b = 8\n",
    "\n",
    "#c 的值是一个布尔值\n",
    "c = b in a\n",
    "print(\"b是a的成员：\", c)\n",
    "\n",
    "b = 4\n",
    "print(\"b是a的成员：\", b in a)\n",
    "\n",
    "\n",
    "# not in \n",
    "a = [1,2,3,4,5]\n",
    "b = 9\n",
    "\n",
    "print(\"b不是a的成员：\", b not in a)"
   ]
  },
  {
   "cell_type": "markdown",
   "metadata": {},
   "source": [
    "### 列表遍历\n",
    "- 依次遍历列表中的元素\n",
    "- 两种方法：\n",
    "    - for\n",
    "        \n",
    "            for i in list:    //list要求是可迭代的内容\n",
    "                code_block\n",
    "    - while\n",
    "        \n",
    "            while idx < len(a):\n",
    "                code_block\n",
    "                idx += 1"
   ]
  },
  {
   "cell_type": "code",
   "execution_count": 23,
   "metadata": {},
   "outputs": [
    {
     "name": "stdout",
     "output_type": "stream",
     "text": [
      "1\n",
      "2\n",
      "3\n",
      "4\n",
      "5\n",
      "6\n",
      "7\n"
     ]
    }
   ],
   "source": [
    "# for示例\n",
    "a = [1,2,3,4,5,6,7]\n",
    "\n",
    "# 挨个打印a里面的元素\n",
    "for i in a:\n",
    "    print(i)"
   ]
  },
  {
   "cell_type": "code",
   "execution_count": 24,
   "metadata": {},
   "outputs": [
    {
     "name": "stdout",
     "output_type": "stream",
     "text": [
      "1\n",
      "2\n",
      "3\n",
      "4\n",
      "5\n",
      "6\n",
      "7\n"
     ]
    }
   ],
   "source": [
    "# while循环示例\n",
    "# 一般不用while遍历list\n",
    "\n",
    "a = [1,2,3,4,5,6,7]\n",
    "idx = 0\n",
    "while idx < len(a):\n",
    "    print(a[idx])\n",
    "    idx += 1"
   ]
  },
  {
   "cell_type": "code",
   "execution_count": 25,
   "metadata": {},
   "outputs": [
    {
     "name": "stdout",
     "output_type": "stream",
     "text": [
      "one -- 1\n",
      "two -- 2\n",
      "three -- 3\n"
     ]
    }
   ],
   "source": [
    "# 双层列表循环\n",
    "\n",
    "# a为嵌套列表，或者叫双层列表\n",
    "\n",
    "a = [[\"one\", 1], [\"two\", 2], [\"three\", 3] ]\n",
    "\n",
    "for k,v in a:\n",
    "    print(k, \"--\", v)  # 特例，仅此处模式可用"
   ]
  },
  {
   "cell_type": "code",
   "execution_count": 35,
   "metadata": {},
   "outputs": [
    {
     "name": "stdout",
     "output_type": "stream",
     "text": [
      "one 1 eins \n",
      "two 2 \n",
      "three 3 4 5 6 8 \n"
     ]
    },
    {
     "ename": "ValueError",
     "evalue": "too many values to unpack (expected 2)",
     "output_type": "error",
     "traceback": [
      "\u001b[1;31m---------------------------------------------------------------------------\u001b[0m",
      "\u001b[1;31mValueError\u001b[0m                                Traceback (most recent call last)",
      "\u001b[1;32m<ipython-input-35-f14a1d00dd79>\u001b[0m in \u001b[0;36m<module>\u001b[1;34m()\u001b[0m\n\u001b[0;32m      9\u001b[0m     \u001b[0mprint\u001b[0m\u001b[1;33m(\u001b[0m\u001b[1;33m)\u001b[0m\u001b[1;33m\u001b[0m\u001b[0m\n\u001b[0;32m     10\u001b[0m \u001b[1;33m\u001b[0m\u001b[0m\n\u001b[1;32m---> 11\u001b[1;33m \u001b[1;32mfor\u001b[0m \u001b[0mk\u001b[0m\u001b[1;33m,\u001b[0m\u001b[0mv\u001b[0m \u001b[1;32min\u001b[0m \u001b[0ma\u001b[0m\u001b[1;33m:\u001b[0m    \u001b[1;31m# ValueError: too many values to unpack (expected 2)\u001b[0m\u001b[1;33m\u001b[0m\u001b[0m\n\u001b[0m\u001b[0;32m     12\u001b[0m     \u001b[0mprint\u001b[0m\u001b[1;33m(\u001b[0m\u001b[0mk\u001b[0m\u001b[1;33m,\u001b[0m \u001b[1;34m\"--\"\u001b[0m\u001b[1;33m,\u001b[0m \u001b[0mv\u001b[0m\u001b[1;33m)\u001b[0m\u001b[1;33m\u001b[0m\u001b[0m\n",
      "\u001b[1;31mValueError\u001b[0m: too many values to unpack (expected 2)"
     ]
    }
   ],
   "source": [
    "# 双层列表循环变异\n",
    "\n",
    "#a 为嵌套列表，或者叫双层列表\n",
    "a = [[\"one\", 1, \"eins\"], [\"two\", 2], [\"three\", 3,4,5,6,8] ]\n",
    "\n",
    "for i in a:\n",
    "    for j in i:\n",
    "        print(j, end=\" \")\n",
    "    print()\n",
    "\n",
    "for k,v in a:    # ValueError: too many values to unpack (expected 2)\n",
    "    print(k, \"--\", v)"
   ]
  },
  {
   "cell_type": "code",
   "execution_count": 30,
   "metadata": {},
   "outputs": [
    {
     "name": "stdout",
     "output_type": "stream",
     "text": [
      "one -- 1 -- eins\n",
      "two -- 2 -- zwei\n",
      "three -- 3 -- drei\n"
     ]
    }
   ],
   "source": [
    "# 双层列表循环变异\n",
    "\n",
    "#a 为嵌套列表，或者叫双层列表\n",
    "a = [[\"one\", 1, \"eins\"], [\"two\", 2,\"zwei\"], [\"three\", 3,\"drei\"] ]\n",
    "#这个例子说明，k，v,w的个数应该跟解包出来的变量个数一致\n",
    "for k,v,w in a:\n",
    "    print(k, \"--\", v, \"--\",w)"
   ]
  },
  {
   "cell_type": "markdown",
   "metadata": {},
   "source": [
    "### 列表内涵 list content\n",
    "- 通过简单的方法创建列表"
   ]
  },
  {
   "cell_type": "code",
   "execution_count": 36,
   "metadata": {},
   "outputs": [
    {
     "name": "stdout",
     "output_type": "stream",
     "text": [
      "['a', 'b', 'c']\n"
     ]
    }
   ],
   "source": [
    "# for 创建\n",
    "a = ['a', 'b', 'c']\n",
    "# 用list a创建一个list b\n",
    "# 下面代码的含义是，对于所有a中的元素，逐个放入新列表b中\n",
    "b = [i for i in a]\n",
    "print(b)"
   ]
  },
  {
   "cell_type": "code",
   "execution_count": 38,
   "metadata": {},
   "outputs": [
    {
     "name": "stdout",
     "output_type": "stream",
     "text": [
      "[10, 20, 30, 40, 50]\n"
     ]
    }
   ],
   "source": [
    "# 对a中所有元素乘以10，生成一个新list\n",
    "a = [1,2,3,4,5]\n",
    "# 用list a创建一个list b\n",
    "# 下面代码的含义是，对于所有a中的元素，逐个放入新列表b中\n",
    "b = [i * 10 for i in a]\n",
    "print(b)"
   ]
  },
  {
   "cell_type": "code",
   "execution_count": 42,
   "metadata": {},
   "outputs": [
    {
     "name": "stdout",
     "output_type": "stream",
     "text": [
      "a = [1, 2, 3, 4, 5, 6, 7, 8, 9, 10, 11, 12, 13, 14, 15, 16, 17, 18, 19, 20, 21, 22, 23, 24, 25, 26, 27, 28, 29, 30, 31, 32, 33, 34]\n",
      "b = [2, 4, 6, 8, 10, 12, 14, 16, 18, 20, 22, 24, 26, 28, 30, 32, 34]\n"
     ]
    }
   ],
   "source": [
    "# 还可以过滤原来list中的内容病放入新列表\n",
    "# 比如原有列表a， 需要把所有a中的偶数生成新的列表b\n",
    "\n",
    "a = [x for x in range(1, 35)] #生成从1到34的一个列表\n",
    "print(\"a =\", a)\n",
    "# 把a中所有偶数生成一个新的列表 b\n",
    "b = [i for i in a if i % 2 == 0]\n",
    "print(\"b =\", b)"
   ]
  },
  {
   "cell_type": "code",
   "execution_count": 45,
   "metadata": {},
   "outputs": [
    {
     "name": "stdout",
     "output_type": "stream",
     "text": [
      "a = [1, 2, 3]\n",
      "b = [100, 200, 300]\n",
      "c = [101, 201, 301, 102, 202, 302, 103, 203, 303]\n",
      "     101  201  301  102  202  302  103  203  303  \n",
      "c = [101, 201, 102, 202, 103, 203]\n"
     ]
    }
   ],
   "source": [
    "# 列表生成式可以嵌套\n",
    "# 有两个列表a，b\n",
    "a = [i for i in range(1,4)] # 生成list a\n",
    "print(\"a =\", a)\n",
    "\n",
    "b = [i for i in range(100,400) if i % 100 == 0]\n",
    "print(\"b =\", b)\n",
    "\n",
    "# 列表生成是可以嵌套,此时等于两个for循环嵌套\n",
    "c = [m + n for m in a for n in b]\n",
    "print(\"c =\", c)\n",
    "\n",
    "# 上面代码跟下面代码等价\n",
    "print(\"     \", end=\"\")\n",
    "for m in a:\n",
    "    for n in b:\n",
    "        print(m + n, end=\"  \")\n",
    "print()\n",
    "\n",
    "# 嵌套的列表生成也可以用条件表达式\n",
    "c = [m + n for m in a for n in b if m+n < 250]\n",
    "print(\"c =\", c)"
   ]
  },
  {
   "cell_type": "code",
   "execution_count": 59,
   "metadata": {},
   "outputs": [
    {
     "name": "stdout",
     "output_type": "stream",
     "text": [
      "调用a函数前： an = [1, 2, 3, 4, 5, 6] id(an) = 3028342668808\n",
      "调用a函数内： n = [1, 2, 300, 4, 5, 6] id(n) = 3028342668808\n",
      "调用a函数后： an = [1, 2, 300, 4, 5, 6] id(an) = 3028342668808\n",
      "调用b函数前： bn = 9 id(bn) = 1959030080\n",
      "调用b函数内： n = 109 id(n) = 1959033280\n",
      "调用b函数前： bn = 9 id(bn) = 1959030080\n"
     ]
    }
   ],
   "source": [
    "# 传值和传址的区别\n",
    "\n",
    "def a(n):  \n",
    "    n[2] = 300\n",
    "    print(\"调用a函数内： n =\", n, \"id(n) =\", id(n))\n",
    "    return None\n",
    "\n",
    "def b(n):\n",
    "    n += 100\n",
    "    print(\"调用b函数内： n =\", n, \"id(n) =\", id(n))\n",
    "    return None\n",
    "\n",
    "# 对于复杂变量，采用传址操作，此时函数内的参数和外部变量是同一份内容，\n",
    "# 任何地方对此内容的更改都影响另外的变量或参数的使用\n",
    "an = [1,2,3,4,5,6]\n",
    "print(\"调用a函数前： an =\", an, \"id(an) =\", id(an))\n",
    "a(an)\n",
    "print(\"调用a函数后： an =\", an, \"id(an) =\", id(an))\n",
    "\n",
    "# 对于简单的数值，采用传值操作，即在函数内对参数的操作不影响外面的变量\n",
    "bn = 9\n",
    "print(\"调用b函数前： bn =\", bn, \"id(bn) =\", id(bn))\n",
    "b(bn)\n",
    "print(\"调用b函数前： bn =\", bn, \"id(bn) =\", id(bn))"
   ]
  },
  {
   "cell_type": "markdown",
   "metadata": {},
   "source": [
    "## 关于列表的常用函数\n",
    "- len(list)：求列表长度\n",
    "- max(list)：求列表中的最大值\n",
    "- min(list)：求列表中的最小值\n",
    "- list(type_v)：把其他格式的数据转换为list，要求被转换的数据是可迭代的\n",
    "- list.append(data)：插入一个内容, 在末尾追加\n",
    "- list.insert(index, data)：指定位置插入，插入位置是index前面\n",
    "- list.pop()：从队尾拿出一个元素，即把最后一个元素取出来\n",
    "- list.remove(data)：在列表中删除指定的元素\n",
    "    - 如果被删除的值没在list中，则报错，因此删除list指定值的操作应该使用try。。。excepty语句，或者先行进行判断\n",
    "    - 先行判断语法：\n",
    "            \n",
    "            if x in list:\n",
    "                list.remove(x)\n",
    "    \n",
    "- list.clear()：清空列表，列表地址保持不变\n",
    "    - 如果不需要列表地址保持不变，则清空列表可以使用list = list()，list = \\[\\]\n",
    "- list.reverse()：翻转列表内容，列表地址保持不变\n",
    "- list.extend(list)：扩展列表，把参数列表list直接拼接到调用列表上，列表地址保持不变\n",
    "- list.count(data)：查找列表中指定值或元素的个数\n",
    "- list.copy()：拷贝\n",
    "    - 此函数是浅拷贝，即只拷贝一层内容，深拷贝需要使用特定工具\n",
    "    - list类型，简单赋值操作，是传地址，即两个list地址相同\n",
    "    - 为了解决以上问题，list赋值需要采用copy函数，两个list地址不同"
   ]
  },
  {
   "cell_type": "code",
   "execution_count": 52,
   "metadata": {},
   "outputs": [
    {
     "name": "stdout",
     "output_type": "stream",
     "text": [
      "len(a) = 99\n"
     ]
    }
   ],
   "source": [
    "# len:求列表长度\n",
    "a = [x for x in range(1,100)]\n",
    "print(\"len(a) =\", len(a))"
   ]
  },
  {
   "cell_type": "code",
   "execution_count": 55,
   "metadata": {},
   "outputs": [
    {
     "name": "stdout",
     "output_type": "stream",
     "text": [
      "max(a) = 99\n",
      "min(b) = film\n"
     ]
    }
   ],
   "source": [
    "# max:求列表中的最大值\n",
    "# min： 同理\n",
    "print(\"max(a) =\", max(a))\n",
    "\n",
    "b = ['man', 'film', 'python']\n",
    "print(\"min(b) =\", min(b))"
   ]
  },
  {
   "cell_type": "code",
   "execution_count": 51,
   "metadata": {},
   "outputs": [
    {
     "name": "stdout",
     "output_type": "stream",
     "text": [
      "a = [1, 2, 3]\n",
      "s = ['I', ' ', 'l', 'o', 'v', 'e', ' ', 'w', 'a', 'n', 'g', 'x', 'i', 'a', 'o', 'j', 'i', 'n', 'g']\n",
      "r = [12, 13, 14, 15, 16, 17, 18]\n"
     ]
    }
   ],
   "source": [
    "# list：将其他格式的数据转换成list\n",
    "a = [1,2,3]\n",
    "print(\"a =\", list(a))\n",
    "\n",
    "s = \"I love wangxiaojing\"\n",
    "print(\"s =\", list(s))\n",
    "\n",
    "# 把range产生的内容转换成list\n",
    "print(\"r =\", list(range(12, 19)))"
   ]
  },
  {
   "cell_type": "code",
   "execution_count": 86,
   "metadata": {},
   "outputs": [
    {
     "name": "stdout",
     "output_type": "stream",
     "text": [
      "Before append: [1, 2, 3, 4] id(a) = 3028342690696\n",
      "After append: [1, 2, 3, 4, 10] id(a) = 3028342690696\n"
     ]
    }
   ],
   "source": [
    "# append末尾追加\n",
    "\n",
    "a = [ i for i in range(1, 5)]\n",
    "print(\"Before append:\", a, \"id(a) =\", id(a))\n",
    "a.append(10)\n",
    "print(\"After append:\", a, \"id(a) =\", id(a))\n"
   ]
  },
  {
   "cell_type": "code",
   "execution_count": 87,
   "metadata": {},
   "outputs": [
    {
     "name": "stdout",
     "output_type": "stream",
     "text": [
      "Before insert: [1, 2, 3, 4, 10] id(a) = 3028342690696\n",
      "After insert: [1, 30, 2, 3, 4, 10] id(a) = 3028342690696\n"
     ]
    }
   ],
   "source": [
    "# insert： 指定位置插入\n",
    "print(\"Before insert:\", a, \"id(a) =\", id(a))\n",
    "a.insert(1,30)\n",
    "print(\"After insert:\", a, \"id(a) =\", id(a))"
   ]
  },
  {
   "cell_type": "code",
   "execution_count": 89,
   "metadata": {},
   "outputs": [
    {
     "name": "stdout",
     "output_type": "stream",
     "text": [
      "Before pop: [1, 30, 2, 3, 4] id(a) = 3028342690696\n",
      "After pop: [1, 30, 2, 3] id(a) = 3028342690696\n"
     ]
    }
   ],
   "source": [
    "# pop从队尾拿出一个元素，即删除最后一个元素\n",
    "print(\"Before pop:\", a, \"id(a) =\", id(a))\n",
    "a.pop()\n",
    "print(\"After pop:\", a, \"id(a) =\", id(a))"
   ]
  },
  {
   "cell_type": "code",
   "execution_count": 90,
   "metadata": {},
   "outputs": [
    {
     "name": "stdout",
     "output_type": "stream",
     "text": [
      "Before remove: [1, 30, 2, 3] id(a) = 3028342690696\n",
      "After remove: [1, 30, 2] id(a) = 3028342690696\n",
      "Before remove: [1, 30, 2] id(a) = 3028342690696\n",
      "After remove: [1, 30, 2] id(a) = 3028342690696\n"
     ]
    }
   ],
   "source": [
    "# remove:在列表中删除指定元素\n",
    "print(\"Before remove:\", a, \"id(a) =\", id(a))\n",
    "# a.remove(100) # 如果被删除的值不在list中，则报错 ValueError: list.remove(x): x not in list\n",
    "a.remove(3)   \n",
    "print(\"After remove:\", a, \"id(a) =\", id(a))\n",
    "\n",
    "\n",
    "print(\"Before remove:\", a, \"id(a) =\", id(a))\n",
    "if 100 in a:   # 先行判断元素是否存在于list中\n",
    "    a.remove(100)\n",
    "print(\"After remove:\", a, \"id(a) =\", id(a))"
   ]
  },
  {
   "cell_type": "code",
   "execution_count": 91,
   "metadata": {},
   "outputs": [
    {
     "name": "stdout",
     "output_type": "stream",
     "text": [
      "Befor clear: [1, 30, 2]  id(a) = 3028342690696\n",
      "After clear: [] id(a) = 3028342690696\n",
      "After list(): [] id(a) = 3028342742600\n",
      "After []: [] id(a) = 3028342690696\n"
     ]
    }
   ],
   "source": [
    "# clear清空\n",
    "print(\"Befor clear:\", a, \" id(a) =\", id(a))\n",
    "a.clear()   # 清空列表，地址保持不变\n",
    "print(\"After clear:\", a, \"id(a) =\", id(a))\n",
    "a = list()  # 清空列表，地址变了\n",
    "print(\"After list():\", a, \"id(a) =\", id(a))\n",
    "a = []      # 清空列表，地址变了\n",
    "print(\"After []:\", a, \"id(a) =\", id(a))"
   ]
  },
  {
   "cell_type": "code",
   "execution_count": 94,
   "metadata": {},
   "outputs": [
    {
     "name": "stdout",
     "output_type": "stream",
     "text": [
      "Before reverse(): [1, 2, 3, 4, 5, 6, 7, 8, 9] id(a) = 3028342667016\n",
      "After reverse(): [9, 8, 7, 6, 5, 4, 3, 2, 1] id(a) = 3028342667016\n"
     ]
    }
   ],
   "source": [
    "# reverse翻转，原地翻转\n",
    "\n",
    "a = [i for i in range(1,10)]\n",
    "\n",
    "print(\"Before reverse():\", a, \"id(a) =\", id(a))\n",
    "a.reverse()\n",
    "print(\"After reverse():\", a, \"id(a) =\", id(a))"
   ]
  },
  {
   "cell_type": "code",
   "execution_count": 96,
   "metadata": {},
   "outputs": [
    {
     "name": "stdout",
     "output_type": "stream",
     "text": [
      "Before extend(b): [1, 2, 3, 4, 5] id(a) = 3028342424520\n",
      "After extend(b): [1, 2, 3, 4, 5, 6, 7, 8, 9, 10] id(a) = 3028342424520\n"
     ]
    }
   ],
   "source": [
    "# extend 扩展列表\n",
    "\n",
    "a = [i for i in range(1,6)]\n",
    "b = [i for i in range(6,11)]\n",
    "\n",
    "print(\"Before extend(b):\", a, \"id(a) =\", id(a))\n",
    "a.extend(b)\n",
    "print(\"After extend(b):\", a, \"id(a) =\", id(a))"
   ]
  },
  {
   "cell_type": "code",
   "execution_count": 97,
   "metadata": {},
   "outputs": [
    {
     "name": "stdout",
     "output_type": "stream",
     "text": [
      "Before count(8): [1, 8, 2, 3, 4, 5, 6, 7, 8, 9, 8] id(a) = 3028342046024\n",
      "count(8) = 3\n"
     ]
    }
   ],
   "source": [
    "# count查找列表中指定元素的个数\n",
    "\n",
    "a = [i for i in range(1,10)]\n",
    "a.append(8)\n",
    "a.insert(1,8)\n",
    "print(\"Before count(8):\", a, \"id(a) =\", id(a))\n",
    "print(\"count(8) =\", a.count(8))"
   ]
  },
  {
   "cell_type": "code",
   "execution_count": 100,
   "metadata": {},
   "outputs": [
    {
     "name": "stdout",
     "output_type": "stream",
     "text": [
      "a = [1, 2, 3, 4, 5, 666] id(a) = 3028341212808\n",
      "a = [1, 2, 777, 4, 5, 666] id(a) = 3028341212808\n",
      "b = [1, 2, 777, 4, 5, 666] id(b) = 3028341212808\n",
      "********************\n",
      "a = [1, 2, 777, 4, 5, 666] id(a) = 3028341212808\n",
      "b = [1, 2, 777, 4, 5, 666] id(b) = 3028341213320\n",
      "********************\n",
      "a = [1, 2, 777, 4, 5, 666] id(a) = 3028341212808\n",
      "b = [1, 2, 888, 4, 5, 666] id(b) = 3028341213320\n"
     ]
    }
   ],
   "source": [
    "# copy: 拷贝，浅拷贝\n",
    "\n",
    "# 列表变量赋值\n",
    "a = [1,2,3,4,5,666]\n",
    "print(\"a =\", a, \"id(a) =\", id(a))\n",
    "\n",
    "b = a   # list类型简单赋值，传递的是list的地址\n",
    "b[2] =777\n",
    "print(\"a =\", a, \"id(a) =\", id(a))\n",
    "print(\"b =\", b, \"id(b) =\", id(b))\n",
    "\n",
    "print(\"*\" * 20)\n",
    "\n",
    "# 为了解决以上问题，list赋值需要采用copy函数\n",
    "b = a.copy()\n",
    "print(\"a =\", a, \"id(a) =\", id(a))\n",
    "print(\"b =\", b, \"id(b) =\", id(b))\n",
    "\n",
    "print(\"*\" * 20)\n",
    "b[2] = 888\n",
    "print(\"a =\", a, \"id(a) =\", id(a))\n",
    "print(\"b =\", b, \"id(b) =\", id(b))"
   ]
  },
  {
   "cell_type": "code",
   "execution_count": 101,
   "metadata": {},
   "outputs": [
    {
     "name": "stdout",
     "output_type": "stream",
     "text": [
      "a = [1, 2, 3, [10, 20, 30]] id(a) = 3028342668872 id(a[3]) = 3028342656968\n",
      "b = [1, 2, 3, [10, 20, 30]] id(b) = 3028341214408 id(b[3]) = 3028342656968\n",
      "a = [1, 2, 3, [10, 20, 666]] id(a) = 3028342668872\n",
      "b = [1, 2, 3, [10, 20, 666]] id(b) = 3028341214408\n"
     ]
    }
   ],
   "source": [
    "# 深拷贝跟浅拷贝的区别\n",
    "# 出现下列问题的原因是，copy‘函数是个浅拷贝函数，即只拷贝一层内容\n",
    "# 深拷贝需要使用特定工具\n",
    "a = [1,2,3, [10, 20, 30]]\n",
    "b = a.copy()\n",
    "print(\"a =\", a, \"id(a) =\", id(a), \"id(a[3]) =\", id(a[3]))\n",
    "print(\"b =\", b, \"id(b) =\", id(b), \"id(b[3]) =\", id(b[3]))\n",
    "\n",
    "a[3][2] = 666\n",
    "print(\"a =\", a, \"id(a) =\", id(a))\n",
    "print(\"b =\", b, \"id(b) =\", id(b))"
   ]
  }
 ],
 "metadata": {
  "kernelspec": {
   "display_name": "Python 3",
   "language": "python",
   "name": "python3"
  },
  "language_info": {
   "codemirror_mode": {
    "name": "ipython",
    "version": 3
   },
   "file_extension": ".py",
   "mimetype": "text/x-python",
   "name": "python",
   "nbconvert_exporter": "python",
   "pygments_lexer": "ipython3",
   "version": "3.6.5"
  }
 },
 "nbformat": 4,
 "nbformat_minor": 2
}
