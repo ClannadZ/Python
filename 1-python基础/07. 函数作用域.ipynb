{
 "cells": [
  {
   "cell_type": "markdown",
   "metadata": {},
   "source": [
    "# 变量作用域\n",
    "- 变量由作用范围限制\n",
    "- 分类：按照作用域分类\n",
    "    - 全局（global）：在函数外部定义\n",
    "    - 局部（local）：在函数内部定义\n",
    "- 变量的作用范围：\n",
    "    - 全局变量：在整个全局范围都有效，在局部可以使用（即函数内部可以访问函数外部定义的变量）\n",
    "    - 局部变量：在局部范围可以使用，在全局范围无法使用\n",
    "- LEGB原则\n",
    "    - L（Local）局部作用域\n",
    "    - E（Enclosing function local）外部嵌套函数作用域\n",
    "    - G（Global module）函数定义所在模块作用域\n",
    "    - B（Buildin）： python内置模块的作用域"
   ]
  },
  {
   "cell_type": "code",
   "execution_count": 2,
   "metadata": {},
   "outputs": [
    {
     "name": "stdout",
     "output_type": "stream",
     "text": [
      "100\n",
      "100\n",
      "I am in fun\n",
      "99\n"
     ]
    }
   ],
   "source": [
    "#认为a1是全局的\n",
    "a1 = 100\n",
    "\n",
    "def fun():\n",
    "    print(a1)\n",
    "    print(\"I am in fun\")\n",
    "    # a2的作用范围是fun函数内\n",
    "    a2 = 99\n",
    "    print(a2)\n",
    "    \n",
    "print(a1)\n",
    "fun()\n",
    "# print(a2) name \"a2\" is not defined"
   ]
  },
  {
   "cell_type": "markdown",
   "metadata": {},
   "source": [
    "## 提升局部变量为全局变量\n",
    "- 使用global关键字\n",
    "- The global keyword is used to create global variables from a no-global scope, e.g. inside a function.\n",
    "- 语法：\n",
    "\n",
    "        global var_name\n",
    "        var_name = value\n",
    "        \n",
    "        # 如果是在函数内部使用global关键字，访问该变量之前需调用函数"
   ]
  },
  {
   "cell_type": "code",
   "execution_count": 9,
   "metadata": {},
   "outputs": [
    {
     "name": "stdout",
     "output_type": "stream",
     "text": [
      "100\n",
      "I am in fun\n",
      "99\n",
      "100\n"
     ]
    }
   ],
   "source": [
    "def fun():\n",
    "    global b1 \n",
    "    b1 = 100\n",
    "    print(b1)\n",
    "    print(\"I am in fun\")\n",
    "    b2=99\n",
    "    print(b2)\n",
    "    \n",
    "fun()    \n",
    "print(b1)\n",
    "#print(b2)   name \"b2\" is not defined\n"
   ]
  },
  {
   "cell_type": "markdown",
   "metadata": {},
   "source": [
    "# globals()，locals()函数\n",
    "- 可以通过globals和locals显示出局部变量和全局变量\n",
    "- 参看以下案例"
   ]
  },
  {
   "cell_type": "code",
   "execution_count": null,
   "metadata": {},
   "outputs": [],
   "source": [
    "# globals和locals\n",
    "# globals 和 locals 叫做内建函数\n",
    "a = 1\n",
    "b = 2\n",
    "\n",
    "def fun(c,d):\n",
    "    e = 111\n",
    "    print(\"Locals={0}\".format(locals()))\n",
    "    print(\"Globals={0}\".format(globals()))\n",
    "    \n",
    "fun(100, 200)"
   ]
  },
  {
   "cell_type": "markdown",
   "metadata": {},
   "source": [
    "# eval()函数\n",
    "- 把一个字符串当成一个表达式来执行，返回表达式执行后的结果\n",
    "- 语法：\n",
    "\n",
    "        eval(string_code, globals=None, locals=None)\n",
    "        \n",
    "# exec()函数\n",
    "- 跟eval()功能类似，但是不返回结果\n",
    "- 语法：\n",
    "\n",
    "        exec(string_code, globals=None, locals=None)"
   ]
  },
  {
   "cell_type": "code",
   "execution_count": 17,
   "metadata": {},
   "outputs": [
    {
     "name": "stdout",
     "output_type": "stream",
     "text": [
      "300\n",
      "300\n"
     ]
    }
   ],
   "source": [
    "x = 100\n",
    "y = 200\n",
    "\n",
    "# 执行x+y\n",
    "# z = x + y\n",
    "z1 = x + y\n",
    "z2 = eval(\"x+y\")\n",
    "\n",
    "print(z1)\n",
    "print(z2)"
   ]
  },
  {
   "cell_type": "code",
   "execution_count": 18,
   "metadata": {},
   "outputs": [
    {
     "name": "stdout",
     "output_type": "stream",
     "text": [
      "x+y: 300\n",
      "300\n",
      "None\n"
     ]
    }
   ],
   "source": [
    "# exec示例\n",
    "x = 100\n",
    "y = 200\n",
    "\n",
    "# 执行x+y\n",
    "# z = x + y\n",
    "z1 = x + y\n",
    "# 1. 注意字符串中引号的写法\n",
    "z2 = exec(\"print('x+y:', x+y)\")\n",
    "\n",
    "print(z1)\n",
    "print(z2)  #None， 因为exec()没有返回值"
   ]
  },
  {
   "cell_type": "markdown",
   "metadata": {},
   "source": [
    "# 递归函数\n",
    "- 函数直接或间接调用自身\n",
    "- 优点：简洁，理解容易\n",
    "- 缺点：对递归深度有限制，消耗资源大\n",
    "- python对递归深度有限制，超过限制报错\n",
    "- 在写递归程序的时候，一定注意结束条件"
   ]
  },
  {
   "cell_type": "code",
   "execution_count": null,
   "metadata": {},
   "outputs": [],
   "source": [
    "# 递归调用深度限制代码\n",
    "\n",
    "x = 0\n",
    "def func():\n",
    "    global x\n",
    "    x += 1\n",
    "    print(x)\n",
    "    #函数自己调用自己\n",
    "    func()\n",
    "\n",
    "# 调用函数\n",
    "func()  # RecursionError: maximum recursion depth exceeded in comparison"
   ]
  },
  {
   "cell_type": "code",
   "execution_count": 30,
   "metadata": {},
   "outputs": [
    {
     "name": "stdout",
     "output_type": "stream",
     "text": [
      "8\n"
     ]
    }
   ],
   "source": [
    "# 斐波那契数列\n",
    "# 一列数字，第一个值是1， 第二个也是1，从第三个开始，每一个数字的值等于前两个数字出现的值的和\n",
    "# 数学公式为：  f(1) = 1, f(2) = 1, f(n) = f(n-1) + f(n-2)\n",
    "# 例如： 1，1，2，3，5，8，13......\n",
    "\n",
    "# 下面求斐波那契数列函数有一定问题，比如n一开始就是负数，如何修正\n",
    "# n表示第n个数字的斐波那契数列的值\n",
    "def fib(n):\n",
    "    if n <= 0:\n",
    "        pass \n",
    "    if n == 1:\n",
    "        return 1\n",
    "    if n == 2:\n",
    "        return 1\n",
    "    # 思考：为什么后面return能够正确执行，而不用else语句\n",
    "    \n",
    "    return fib(n-1) + fib(n-2)\n",
    "\n",
    "print(fib(6))"
   ]
  },
  {
   "cell_type": "code",
   "execution_count": 10,
   "metadata": {},
   "outputs": [
    {
     "name": "stdout",
     "output_type": "stream",
     "text": [
      "A -> C\n",
      "A -> B\n",
      "C -> B\n",
      "A -> C\n",
      "B -> A\n",
      "B -> C\n",
      "A -> C\n",
      "A -> B\n",
      "C -> B\n",
      "C -> A\n",
      "B -> A\n",
      "C -> B\n",
      "A -> C\n",
      "A -> B\n",
      "C -> B\n",
      "A -> C\n",
      "B -> A\n",
      "B -> C\n",
      "A -> C\n",
      "B -> A\n",
      "C -> B\n",
      "C -> A\n",
      "B -> A\n",
      "B -> C\n",
      "A -> C\n",
      "A -> B\n",
      "C -> B\n",
      "A -> C\n",
      "B -> A\n",
      "B -> C\n",
      "A -> C\n",
      "step = 31\n"
     ]
    }
   ],
   "source": [
    "# 汉诺塔\n",
    "# 有三根柱子 A， B， C。 A 杆上有 N 个（N > 1）穿圆孔盘，盘的尺寸由下到上依次变小。要按照下列规则将所有圆盘移至 C 杆：\n",
    "#  1.每次只能移动一个圆盘；\n",
    "#  2.大盘不能叠在小盘上面；\n",
    "#  问： 如何移？最少需要移动多少次？\n",
    "\n",
    "step = 0\n",
    "def hanoi(n, a='A', b='B', c='C'):\n",
    "    if n <= 0:\n",
    "        return\n",
    "    \n",
    "    # step记录移动步数\n",
    "    global step\n",
    "    step += 1\n",
    "    \n",
    "    # 如果a塔上只有1个盘子，直接放到c塔上\n",
    "    if n == 1:\n",
    "        print(a, c, sep=\" -> \")\n",
    "        return\n",
    "    \n",
    "    # 把n-1个盘子，从a塔借助于c塔，挪到b塔上去\n",
    "    hanoi(n-1, a, c, b)\n",
    "    \n",
    "    # 把a塔上剩下的1个盘子直接放到c塔上\n",
    "    print(a, c, sep=\" -> \")\n",
    "    \n",
    "    # 把n-1个盘子，从b塔借助于a塔，挪到c塔上去\n",
    "    hanoi(n-1, b, a, c)\n",
    "    \n",
    "hanoi(5)     \n",
    "print(\"step =\", step)"
   ]
  },
  {
   "cell_type": "code",
   "execution_count": 3,
   "metadata": {},
   "outputs": [
    {
     "name": "stdout",
     "output_type": "stream",
     "text": [
      "A->B\n",
      "A->C\n",
      "B->C\n",
      "A->B\n",
      "C->A\n",
      "C->B\n",
      "A->B\n",
      "A->C\n",
      "B->C\n",
      "B->A\n",
      "C->A\n",
      "B->C\n",
      "A->B\n",
      "A->C\n",
      "B->C\n"
     ]
    }
   ],
   "source": [
    "def hanoi(n, a='A', b='B', c='C'):\n",
    "    if n <= 0:\n",
    "        return\n",
    "    if n == 1:\n",
    "        print(a, c, sep=\"->\")\n",
    "        return\n",
    "    if n == 2:\n",
    "        print(a, b, sep=\"->\")\n",
    "        print(a, c, sep=\"->\")\n",
    "        print(b, c, sep=\"->\")\n",
    "        return\n",
    "    hanoi(n-1, a, c, b)\n",
    "    print(a, c, sep=\"->\")\n",
    "    hanoi(n-1, b, a, c)\n",
    "    \n",
    "hanoi(4)"
   ]
  },
  {
   "cell_type": "code",
   "execution_count": null,
   "metadata": {},
   "outputs": [],
   "source": []
  }
 ],
 "metadata": {
  "kernelspec": {
   "display_name": "Python 3",
   "language": "python",
   "name": "python3"
  },
  "language_info": {
   "codemirror_mode": {
    "name": "ipython",
    "version": 3
   },
   "file_extension": ".py",
   "mimetype": "text/x-python",
   "name": "python",
   "nbconvert_exporter": "python",
   "pygments_lexer": "ipython3",
   "version": "3.6.5"
  }
 },
 "nbformat": 4,
 "nbformat_minor": 2
}
