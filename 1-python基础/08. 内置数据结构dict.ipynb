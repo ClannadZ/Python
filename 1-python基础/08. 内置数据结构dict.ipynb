{
 "cells": [
  {
   "cell_type": "markdown",
   "metadata": {},
   "source": [
    "# 字典 - dict\n",
    "- 字典是一种组合数据，没有顺序的组合数据，数据以键值对形式出现\n",
    "\n",
    "## 字典的创建\n",
    "- 创建一个空字典\n",
    "\n",
    "        d = {}  or  d = dict()\n",
    "- 创建有值的字典\n",
    "\n",
    "        d1 = {\"key1\": value1, \"key2\": value2, ...}\n",
    "        d2 = dict({\"key1\": value1, \"key2\": value2, ...})   or  d2 = dict(d1)\n",
    "        d3 = dict(key1 = value1, key2 = value2, key3 = value3)\n",
    "        d4 = dict([(\"one\", 1), (\"two\", 2), (\"three\", 3)])"
   ]
  },
  {
   "cell_type": "code",
   "execution_count": 1,
   "metadata": {},
   "outputs": [
    {
     "name": "stdout",
     "output_type": "stream",
     "text": [
      "d = {}\n",
      "d1 = {}\n",
      "d = {'one': 1, 'two': 2, 'three': 3}\n",
      "d = {'one': 1, 'two': 2, 'three': 3}\n",
      "d = {'one': 1, 'two': 2, 'three': 3}\n",
      "d = {'one': 1, 'two': 2, 'three': 3}\n"
     ]
    }
   ],
   "source": [
    "# 字典的创建\n",
    "\n",
    "# 空字典\n",
    "d = {}\n",
    "print(\"d =\", d)\n",
    "d1 = dict()\n",
    "print(\"d1 =\", d1)\n",
    "\n",
    "# 创建有值的字典\n",
    "d = {\"one\": 1, \"two\": 2, \"three\": 3}\n",
    "print(\"d =\", d)\n",
    "\n",
    "# 用dict()函数创建有内容的字典\n",
    "d = dict({\"one\": 1, \"two\": 2, \"three\": 3})\n",
    "print(\"d =\", d)\n",
    "\n",
    "# 用dict()函数创建有内容的字典, 利用关键字参数\n",
    "d = dict(one=1, two=2, three=3)\n",
    "print(\"d =\", d)\n",
    "\n",
    "\n",
    "# 用dict()函数创建有内容的字典\n",
    "d = dict([(\"one\",1), (\"two\",2), (\"three\",3)])\n",
    "print(\"d =\", d)"
   ]
  },
  {
   "cell_type": "markdown",
   "metadata": {},
   "source": [
    "## 字典的特征\n",
    "- 字典是序列类型，但是是无序序列，所以没有分片和索引\n",
    "- 字典中的数据每个都有键值对组成，即KV对\n",
    "    - key: 必须是可哈希的值，比如int, string, float, tuple，但是，list, set, dict不行\n",
    "    - value: 任何值"
   ]
  },
  {
   "cell_type": "markdown",
   "metadata": {},
   "source": [
    "## 字典常见操作\n",
    "- 访问数据\n"
   ]
  },
  {
   "cell_type": "code",
   "execution_count": 4,
   "metadata": {},
   "outputs": [
    {
     "name": "stdout",
     "output_type": "stream",
     "text": [
      "d[\"one\"] = 1\n"
     ]
    }
   ],
   "source": [
    "# 访问数据\n",
    "d = {\"one\": 1, \"two\": 2, \"three\": 3}\n",
    "\n",
    "print(\"d[\\\"one\\\"] =\", d[\"one\"])"
   ]
  },
  {
   "cell_type": "code",
   "execution_count": 14,
   "metadata": {},
   "outputs": [
    {
     "name": "stdout",
     "output_type": "stream",
     "text": [
      "d = {'one': 'eins', 'two': 2, 'three': 3}\n",
      "d = {'two': 2, 'three': 3}\n"
     ]
    }
   ],
   "source": [
    "d[\"one\"] = \"eins\"\n",
    "print(\"d =\", d)\n",
    "\n",
    "# 删除某个操作\n",
    "# 使用del操作\n",
    "del d[\"one\"]\n",
    "print(\"d =\", d)"
   ]
  },
  {
   "cell_type": "code",
   "execution_count": 13,
   "metadata": {},
   "outputs": [
    {
     "name": "stdout",
     "output_type": "stream",
     "text": [
      "key\n"
     ]
    }
   ],
   "source": [
    "# 成员检测， in， not in\n",
    "# 成员检测检测的是key是否存在\n",
    "d = {\"one\":1, \"two\":2, \"three\":3}\n",
    "\n",
    "if 2 in d:\n",
    "    print(\"value\")\n",
    "    \n",
    "if \"two\" in d:\n",
    "    print(\"key\")\n",
    "    \n",
    "if (\"two\", 2) in d:\n",
    "    print(\"kv\")"
   ]
  },
  {
   "cell_type": "code",
   "execution_count": 15,
   "metadata": {},
   "outputs": [
    {
     "name": "stdout",
     "output_type": "stream",
     "text": [
      "one 1\n",
      "two 2\n",
      "three 3\n",
      "one 1\n",
      "two 2\n",
      "three 3\n",
      "1\n",
      "2\n",
      "3\n",
      "one -- 1\n",
      "two -- 2\n",
      "three -- 3\n"
     ]
    }
   ],
   "source": [
    "# 便利在python2 和 3 中区别比较大，代码不通用\n",
    "# 按key来使用for循环\n",
    "d = {\"one\":1, \"two\":2, \"three\":3}\n",
    "\n",
    "# 使用for循环，直接按key值访问\n",
    "for k in d:\n",
    "    print(k,  d[k])\n",
    "    \n",
    "# 上述代码可以改写成如下\n",
    "for k in d.keys():\n",
    "    print(k,  d[k])\n",
    "    \n",
    "# 只访问字典的值\n",
    "for v in d.values():\n",
    "    print(v)\n",
    "    \n",
    "# 注意以下特殊用法\n",
    "for k,v in d.items():\n",
    "    print(k,'--',v)"
   ]
  },
  {
   "cell_type": "code",
   "execution_count": 19,
   "metadata": {},
   "outputs": [
    {
     "name": "stdout",
     "output_type": "stream",
     "text": [
      "{'one': 1, 'two': 2, 'three': 3}\n",
      "dd = {'two': 2}\n"
     ]
    }
   ],
   "source": [
    "# 字典生成式\n",
    "\n",
    "d = {\"one\":1, \"two\":2, \"three\":3}\n",
    "\n",
    "# 常规字典生成式\n",
    "dd = {k:v for k,v in d.items()}\n",
    "print(dd)\n",
    "\n",
    "\n",
    "# 加限制条件的字典生成式\n",
    "dd = {k:v \n",
    "      for k,v in d.items() \n",
    "          if v % 2 == 0}\n",
    "print(\"dd =\", dd)"
   ]
  },
  {
   "cell_type": "markdown",
   "metadata": {},
   "source": [
    "# 字典相关函数"
   ]
  },
  {
   "cell_type": "code",
   "execution_count": null,
   "metadata": {},
   "outputs": [],
   "source": [
    "# 通用函数： len, max, min, dict\n",
    "# str(字典): 返回字典的字符串格式\n",
    "d = {\"one\":1, \"two\":2, \"three\":3}\n",
    "print(str(d))"
   ]
  },
  {
   "cell_type": "code",
   "execution_count": 25,
   "metadata": {},
   "outputs": [
    {
     "name": "stdout",
     "output_type": "stream",
     "text": [
      "i =  dict_items([('one', 1), ('two', 2), ('three', 3)]) , type = <class 'dict_items'>\n"
     ]
    }
   ],
   "source": [
    "# clear: 清空字典\n",
    "# items: 返回字典的键值对组成的元组格式\n",
    "\n",
    "d = {\"one\":1, \"two\":2, \"three\":3}\n",
    "i = d.items()\n",
    "print(\"i =\", i, \", type =\", type(i))"
   ]
  },
  {
   "cell_type": "code",
   "execution_count": 26,
   "metadata": {},
   "outputs": [
    {
     "name": "stdout",
     "output_type": "stream",
     "text": [
      "k = dict_keys(['one', 'two', 'three']) , type = <class 'dict_keys'>\n"
     ]
    }
   ],
   "source": [
    "# keys:返回字典的键组成的一个结构\n",
    "k = d.keys()\n",
    "print(\"k =\",k, \", type =\" , type(k))"
   ]
  },
  {
   "cell_type": "code",
   "execution_count": 27,
   "metadata": {},
   "outputs": [
    {
     "name": "stdout",
     "output_type": "stream",
     "text": [
      "v = dict_values([1, 2, 3]) , type = <class 'dict_values'>\n"
     ]
    }
   ],
   "source": [
    "# values: 同理，一个可迭代的结构\n",
    "v = d.values()\n",
    "print(\"v =\",v, \", type =\" , type(v))"
   ]
  },
  {
   "cell_type": "code",
   "execution_count": 23,
   "metadata": {},
   "outputs": [
    {
     "name": "stdout",
     "output_type": "stream",
     "text": [
      "None\n",
      "1\n",
      "100\n"
     ]
    },
    {
     "ename": "KeyError",
     "evalue": "'on333'",
     "output_type": "error",
     "traceback": [
      "\u001b[1;31m---------------------------------------------------------------------------\u001b[0m",
      "\u001b[1;31mKeyError\u001b[0m                                  Traceback (most recent call last)",
      "\u001b[1;32m<ipython-input-23-ab27a780e6a8>\u001b[0m in \u001b[0;36m<module>\u001b[1;34m()\u001b[0m\n\u001b[0;32m      9\u001b[0m \u001b[1;33m\u001b[0m\u001b[0m\n\u001b[0;32m     10\u001b[0m \u001b[1;31m#体会以下代码跟上面代码的区别\u001b[0m\u001b[1;33m\u001b[0m\u001b[1;33m\u001b[0m\u001b[0m\n\u001b[1;32m---> 11\u001b[1;33m \u001b[0mprint\u001b[0m\u001b[1;33m(\u001b[0m\u001b[0md\u001b[0m\u001b[1;33m[\u001b[0m\u001b[1;34m'on333'\u001b[0m\u001b[1;33m]\u001b[0m\u001b[1;33m)\u001b[0m\u001b[1;33m\u001b[0m\u001b[0m\n\u001b[0m",
      "\u001b[1;31mKeyError\u001b[0m: 'on333'"
     ]
    }
   ],
   "source": [
    "# get: 根据制定键返回相应的值， 好处是，可以设置默认值\n",
    "\n",
    "d = {\"one\":1, \"two\":2, \"three\":3}\n",
    "print(d.get(\"on333\"))\n",
    "\n",
    "# get默认值是None，可以设置\n",
    "print(d.get(\"one\", 100))\n",
    "print(d.get(\"one333\", 100))\n",
    "\n",
    "#体会以下代码跟上面代码的区别\n",
    "print(d['on333'])"
   ]
  },
  {
   "cell_type": "code",
   "execution_count": null,
   "metadata": {},
   "outputs": [],
   "source": [
    "\n",
    "# fromkeys: 使用指定的序列作为键，使用一个值作为字典的所有的键的值\n",
    "l = [\"eins\", \"zwei\", \"drei\"]\n",
    "# 注意fromkeys两个参数的类型\n",
    "# 注意fromkeys的调用主体\n",
    "d = dict.fromkeys(l, \"hahahahahah\")\n",
    "print(d)"
   ]
  }
 ],
 "metadata": {
  "kernelspec": {
   "display_name": "Python 3",
   "language": "python",
   "name": "python3"
  },
  "language_info": {
   "codemirror_mode": {
    "name": "ipython",
    "version": 3
   },
   "file_extension": ".py",
   "mimetype": "text/x-python",
   "name": "python",
   "nbconvert_exporter": "python",
   "pygments_lexer": "ipython3",
   "version": "3.6.5"
  }
 },
 "nbformat": 4,
 "nbformat_minor": 2
}
