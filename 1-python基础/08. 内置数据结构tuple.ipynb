{
 "cells": [
  {
   "cell_type": "markdown",
   "metadata": {},
   "source": [
    "# 元组-tuple\n",
    "- 元组可以看成是一个不可更改的list\n",
    "\n",
    "## 元组创建\n",
    "- 创建空元组  \n",
    "\n",
    "        t = ()  or  t = tuple()\n",
    "- 创建一个只有个一个值的元组\n",
    "\n",
    "        t = (v1,)  or  t = v1,\n",
    "- 创建多个值的元组\n",
    "\n",
    "        t = (v1, v1, v3, ...)  or  t = v1, v2, v3, ...\n",
    "- 使用其他结构创建\n",
    "        \n",
    "        t = tuple(type_v)"
   ]
  },
  {
   "cell_type": "code",
   "execution_count": 2,
   "metadata": {},
   "outputs": [
    {
     "name": "stdout",
     "output_type": "stream",
     "text": [
      "<class 'tuple'>\n",
      "<class 'tuple'> (1,)\n",
      "<class 'tuple'> (1,)\n",
      "<class 'tuple'> (1, 2, 3, 4, 5)\n",
      "<class 'tuple'> (1, 2, 3, 4, 5)\n",
      "<class 'tuple'> (1, 2, 3, 4, 5, 6, 7, 8, 9)\n"
     ]
    }
   ],
   "source": [
    "# 创建空元组\n",
    "t = ()\n",
    "print(type(t))\n",
    "\n",
    "# 创建一个只有一个值的元组\n",
    "t = (1,)\n",
    "print(type(t), t)\n",
    "\n",
    "t = 1,\n",
    "print(type(t), t)\n",
    "\n",
    "# 创建多个值的元组\n",
    "t = (1,2,3,4,5)\n",
    "print(type(t), t)\n",
    "\n",
    "t = 1,2,3,4,5\n",
    "print(type(t), t)\n",
    "\n",
    "# 使用其他结构创建\n",
    "l = [i for i in range(1,10)]\n",
    "t = tuple(l)\n",
    "print(type(t), t)"
   ]
  },
  {
   "cell_type": "markdown",
   "metadata": {},
   "source": [
    "## 元组的特性\n",
    "- 是序列表，有序\n",
    "- 元组的具体元素（item，element）可以访问，不能修改\n",
    "- 元组数据可以是任意类型\n",
    "- 总之，list所有特性，除了可修改外，元组都具有\n",
    "- 也就意味着，list具有的一些操作，比如索引，分片，序列相加，序列相乘，成员资格操作等，一摸一样"
   ]
  },
  {
   "cell_type": "code",
   "execution_count": 7,
   "metadata": {},
   "outputs": [
    {
     "name": "stdout",
     "output_type": "stream",
     "text": [
      "t[4] = 5\n"
     ]
    }
   ],
   "source": [
    "# 索引操作\n",
    "t = (1,2,3,4,5)\n",
    "print(\"t[4] =\", t[4])\n",
    "#print(\"t[12] =\", t[12])  # IndexError: tuple index out of range,下标越界Error"
   ]
  },
  {
   "cell_type": "code",
   "execution_count": 11,
   "metadata": {},
   "outputs": [
    {
     "name": "stdout",
     "output_type": "stream",
     "text": [
      "t =  (1, 2, 3, 4, 5, 6) , id(t) = 2066799441384\n",
      "t[1::2] =  (2, 4, 6) , id(t1) =  2066801118376\n"
     ]
    }
   ],
   "source": [
    "# 分片操作， 切片可以超标\n",
    "t = (1, 2, 3, 4, 5, 6)\n",
    "t1 = t[1::2]\n",
    "print(\"t = \", t, \", id(t) =\", id(t))\n",
    "print(\"t[1::2] = \", t1, \", id(t1) = \", id(t1))"
   ]
  },
  {
   "cell_type": "code",
   "execution_count": 15,
   "metadata": {},
   "outputs": [
    {
     "name": "stdout",
     "output_type": "stream",
     "text": [
      "t1 = (1, 2, 3) , id(t1) = 2066801118376\n",
      "t2 = (5, 6, 7) , id(t2) = 2066801115280\n",
      "t1 + t2 = (1, 2, 3, 5, 6, 7) id(t1) = 2066800225160\n"
     ]
    },
    {
     "ename": "TypeError",
     "evalue": "'tuple' object does not support item assignment",
     "output_type": "error",
     "traceback": [
      "\u001b[1;31m---------------------------------------------------------------------------\u001b[0m",
      "\u001b[1;31mTypeError\u001b[0m                                 Traceback (most recent call last)",
      "\u001b[1;32m<ipython-input-15-2cecd9b6fa18>\u001b[0m in \u001b[0;36m<module>\u001b[1;34m()\u001b[0m\n\u001b[0;32m     10\u001b[0m \u001b[1;33m\u001b[0m\u001b[0m\n\u001b[0;32m     11\u001b[0m \u001b[1;31m# tuple的不可修改，指的是具体内容的不可修改，即不可修改特定元素的值，否则会报错\u001b[0m\u001b[1;33m\u001b[0m\u001b[1;33m\u001b[0m\u001b[0m\n\u001b[1;32m---> 12\u001b[1;33m \u001b[0mt1\u001b[0m\u001b[1;33m[\u001b[0m\u001b[1;36m1\u001b[0m\u001b[1;33m]\u001b[0m \u001b[1;33m=\u001b[0m \u001b[1;36m100\u001b[0m\u001b[1;33m\u001b[0m\u001b[0m\n\u001b[0m",
      "\u001b[1;31mTypeError\u001b[0m: 'tuple' object does not support item assignment"
     ]
    }
   ],
   "source": [
    "# 序列相加\n",
    "t1 = (1, 2, 3)\n",
    "t2 = (5, 6, 7)\n",
    "\n",
    "# 传址操作\n",
    "print(\"t1 =\", t1, \", id(t1) =\", id(t1))\n",
    "print(\"t2 =\", t2, \", id(t2) =\", id(t2))\n",
    "t1 += t2\n",
    "print(\"t1 + t2 =\", t1, \"id(t1) =\" , id(t1))\n",
    "\n",
    "# tuple的不可修改，指的是具体内容的不可修改，即不可修改特定元素的值，否则会报错\n",
    "t1[1] = 100   #TypeError: 'tuple' object does not support item assignment"
   ]
  },
  {
   "cell_type": "code",
   "execution_count": 17,
   "metadata": {},
   "outputs": [
    {
     "name": "stdout",
     "output_type": "stream",
     "text": [
      "  t = (1, 2, 3) , id(t) = 2066800422128\n",
      "t*3 = (1, 2, 3, 1, 2, 3, 1, 2, 3) , id(t) = 2066800097464\n"
     ]
    }
   ],
   "source": [
    "# 元组相乘\n",
    "t = (1, 2, 3)\n",
    "print(\"  t =\", t, \", id(t) =\", id(t))\n",
    "t = t * 3\n",
    "print(\"t*3 =\", t, \", id(t) =\", id(t))"
   ]
  },
  {
   "cell_type": "code",
   "execution_count": 18,
   "metadata": {},
   "outputs": [
    {
     "name": "stdout",
     "output_type": "stream",
     "text": [
      "Yes\n"
     ]
    }
   ],
   "source": [
    "# 成员检测\n",
    "t = (1, 2, 3, 4)\n",
    "\n",
    "if 2 in t:\n",
    "    print(\"Yes\")\n",
    "else:\n",
    "    print(\"No\")"
   ]
  },
  {
   "cell_type": "code",
   "execution_count": 23,
   "metadata": {},
   "outputs": [
    {
     "name": "stdout",
     "output_type": "stream",
     "text": [
      "1 2 3 wangxiaojing i love \n",
      "********************\n",
      "(1, 2, 3)\n",
      "(2, 3, 4)\n",
      "('i', 'am', 'girl')\n",
      "1 -- 2 -- 3\n",
      "2 -- 3 -- 4\n",
      "i -- am -- girl\n"
     ]
    }
   ],
   "source": [
    "# 元组遍历，一般采用for\n",
    "# 1. 单层元组遍历\n",
    "\n",
    "t = (1, 2, 3, \"wangxiaojing\", \"i\", \"love\")\n",
    "for i in t:\n",
    "    print(i, end=\" \")\n",
    "\n",
    "print()\n",
    "print(\"*\" * 20)\n",
    "\n",
    "# 2. 双层元组遍历\n",
    "t = ((1,2,3),(2,3,4),(\"i\",\"am\",\"girl\"))\n",
    "for i in t:\n",
    "    print(i)\n",
    "    \n",
    "for k,m,n in t:\n",
    "    print(k,\"--\",m,\"--\",n)"
   ]
  },
  {
   "cell_type": "markdown",
   "metadata": {},
   "source": [
    "## 元组的函数\n",
    "- len(tuple) 获取元组的长度\n",
    "- max(tuple) 获取元组的最大值\n",
    "- min(tuple) 获取元组的最小值\n",
    "- tuple.count(v1) 获取指定元素的个数\n",
    "- tuple.index(v1) 获取指定元素在元组中的索引位置，多个取第一个的位置\n",
    "- 两个变量交换值  a,b = b,a"
   ]
  },
  {
   "cell_type": "code",
   "execution_count": 25,
   "metadata": {},
   "outputs": [
    {
     "name": "stdout",
     "output_type": "stream",
     "text": [
      "len(t) = 5\n"
     ]
    }
   ],
   "source": [
    "# len 获取元组的长度\n",
    "\n",
    "t = (1, 2, 3, 4, 5)\n",
    "print(\"len(t) =\", len(t))"
   ]
  },
  {
   "cell_type": "code",
   "execution_count": 26,
   "metadata": {},
   "outputs": [
    {
     "name": "stdout",
     "output_type": "stream",
     "text": [
      "max(t) = 5\n",
      "min(t) = 1\n"
     ]
    }
   ],
   "source": [
    "# max, min 最大最小值\n",
    "print(\"max(t) =\", max(t))\n",
    "print(\"min(t) =\", min(t))"
   ]
  },
  {
   "cell_type": "code",
   "execution_count": 27,
   "metadata": {},
   "outputs": [
    {
     "name": "stdout",
     "output_type": "stream",
     "text": [
      "t = (1, 2, 3, 4, 5)\n",
      "t1 = ()\n"
     ]
    }
   ],
   "source": [
    "# tuple: 转化或创建元组\n",
    "l = [1,2,3,4,5]\n",
    "t = tuple(l)\n",
    "print(\"t =\", t)\n",
    "\n",
    "t1 = tuple()\n",
    "print(\"t1 =\", t1)"
   ]
  },
  {
   "cell_type": "code",
   "execution_count": 28,
   "metadata": {},
   "outputs": [
    {
     "name": "stdout",
     "output_type": "stream",
     "text": [
      "t.count(2) = 3\n"
     ]
    }
   ],
   "source": [
    "# count 获取指定元素的个数\n",
    "t = (1,2,2,3,5,2,1,3,5)\n",
    "\n",
    "print(\"t.count(2) =\", t.count(2))"
   ]
  },
  {
   "cell_type": "code",
   "execution_count": 29,
   "metadata": {},
   "outputs": [
    {
     "name": "stdout",
     "output_type": "stream",
     "text": [
      "t.index(2) = 1\n"
     ]
    }
   ],
   "source": [
    "# index 获取指定元素在元组中的索引位置\n",
    "print(\"t.index(2) =\", t.index(2))"
   ]
  },
  {
   "cell_type": "code",
   "execution_count": 30,
   "metadata": {},
   "outputs": [
    {
     "name": "stdout",
     "output_type": "stream",
     "text": [
      "a = 1 , b = 3\n",
      "a = 3 , b = 1\n"
     ]
    }
   ],
   "source": [
    "# 两个变量交换值\n",
    "a = 1\n",
    "b = 3\n",
    "print(\"a =\", a, \", b =\", b)\n",
    "a,b = b,a\n",
    "print(\"a =\", a, \", b =\", b)"
   ]
  }
 ],
 "metadata": {
  "kernelspec": {
   "display_name": "Python 3",
   "language": "python",
   "name": "python3"
  },
  "language_info": {
   "codemirror_mode": {
    "name": "ipython",
    "version": 3
   },
   "file_extension": ".py",
   "mimetype": "text/x-python",
   "name": "python",
   "nbconvert_exporter": "python",
   "pygments_lexer": "ipython3",
   "version": "3.6.5"
  }
 },
 "nbformat": 4,
 "nbformat_minor": 2
}
