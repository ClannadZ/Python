{
 "cells": [
  {
   "cell_type": "markdown",
   "metadata": {},
   "source": [
    "# 四类参数\n",
    "  - [参考资料] (https://www.cnblogs.com/bingabcd/p/6671368.html)\n",
    "\n",
    "## 普通参数（位置参数）\n",
    "- 定义的时候直接定义变量名\n",
    "- 调用的时候直接把变量或者值放入指定位置\n",
    "                \n",
    "      def 函数名(参数1, 参数2, ...):\n",
    "          函数体\n",
    "                        \n",
    "      # 调用的时候，具体值参考的是位置，按位置赋值\n",
    "          函数名(value1, value2, ...)"
   ]
  },
  {
   "cell_type": "code",
   "execution_count": 11,
   "metadata": {},
   "outputs": [
    {
     "name": "stdout",
     "output_type": "stream",
     "text": [
      "hello tanggu 先生, welcome to python world!\n"
     ]
    }
   ],
   "source": [
    "# 普通参数的定义和使用\n",
    "\n",
    "def print_hello(name, sex):\n",
    "    print ('hello %s %s, welcome to python world!'%(name, sex))\n",
    "\n",
    "# 两个参数的顺序必须一一对应，且少一个参数都不可以\n",
    "print_hello('tanggu', \"先生\")"
   ]
  },
  {
   "cell_type": "markdown",
   "metadata": {},
   "source": [
    "## 默认参数\n",
    "- 形参带有默认值\n",
    "- 调用的时候，如果没有对相应形参赋值，则使用默认值\n",
    "                \n",
    "        def func_name(p1=v1, p2=v2,...):\n",
    "            func_block\n",
    "        #调用1 func_name()\n",
    "        #调用2 func_name(value1, value2, ...)"
   ]
  },
  {
   "cell_type": "code",
   "execution_count": 5,
   "metadata": {},
   "outputs": [],
   "source": [
    "# 默认参数示例\n",
    "# 报名函数，需要知道学生性别\n",
    "# 学习python的学生基本都是男生，所以，报名的时候如果没有特别指定，我们任务是男生\n",
    "def reg(name, age, gender=\"male\"):\n",
    "    if gender == \"male\":\n",
    "        print(\"{0} is {1}, and he is a good student\".format(name, age))\n",
    "    else:\n",
    "        print(\"{0} is {1}, and she is a good student\".format(name, age))\n",
    "\n",
    "# 调用默认参数函数案例1\n",
    "\n",
    "reg(\"mingyue\", 21)\n",
    "\n",
    "reg(\"xiaojing\", 23, \"female\")"
   ]
  },
  {
   "cell_type": "markdown",
   "metadata": {},
   "source": [
    "## 关键字参数\n",
    "- 语法\n",
    "\n",
    "        def func_name(p1=v1, p2=v2, ...):\n",
    "            func_block\n",
    "            \n",
    "        调用函数： func_name(p1=value1, p2=value2,...)\n",
    "- 比较麻烦，但是也有好处\n",
    "    - 不容易混淆，一般实参和形参只能按照位置一一对应即可，容易出错\n",
    "    - 使用关键字参数，可以不考虑参数位置"
   ]
  },
  {
   "cell_type": "code",
   "execution_count": 4,
   "metadata": {},
   "outputs": [
    {
     "name": "stdout",
     "output_type": "stream",
     "text": [
      "I am a student\n",
      "我叫 18， 我今年 jingjing岁了， 我住我家\n",
      "I am a student\n",
      "我叫 jingjing， 我今年 18岁了， 我住我家\n"
     ]
    }
   ],
   "source": [
    "# 关键字参数案例\n",
    "def stu(name, age, addr):\n",
    "    print(\"I am a student\")\n",
    "    print(\"我叫 {0}， 我今年 {1}岁了， 我住{2}\".format(name, age, addr))\n",
    "    \n",
    "    \n",
    "n = \"jingjing\"\n",
    "a = 18\n",
    "addr = \"我家\"\n",
    "\n",
    "# 普通参数，只按照位置传递，容易出错\n",
    "stu(a, n, addr)\n",
    "\n",
    "\n",
    "def stu_key(name=\"No name\", age=0, addr=\"No addr\"):\n",
    "    print(\"I am a student\")\n",
    "    print(\"我叫 {0}， 我今年 {1}岁了， 我住{2}\".format(name, age, addr))\n",
    "    \n",
    "    \n",
    "n = \"jingjing\"\n",
    "a = 18\n",
    "addr = \"我家\"\n",
    "\n",
    "# 普通参数，只按照位置传递，容易出错\n",
    "stu_key(age=a, name=n, addr=addr)"
   ]
  },
  {
   "cell_type": "markdown",
   "metadata": {},
   "source": [
    "## 收集参数\n",
    "- 把没有位置，不能和定义时的参数位置相对应的参数，放入一个特定的数据结构中\n",
    "- 语法\n",
    "\n",
    "        def func_name(*args):\n",
    "            func_block   #按照list使用方式访问args得到传入的参数\n",
    "            \n",
    "        #调用： func_name(p1, p2, p3, ...)\n",
    "- 参数名args不是必须这么写，但是，我们推荐直接用args，约定俗成\n",
    "- 参数名args前需要有星号\n",
    "- 收集参数可以和其他参数共存\n",
    "- 收集参数可以不带任何实参调用，此时收集参数为空tuple"
   ]
  },
  {
   "cell_type": "code",
   "execution_count": 2,
   "metadata": {},
   "outputs": [
    {
     "name": "stdout",
     "output_type": "stream",
     "text": [
      "大家好，我的自我介绍如下：\n",
      "<class 'tuple'>\n",
      "liuying\n",
      "18\n",
      "北京大通州区\n",
      "wangxiaojing\n",
      "single\n",
      "大家好，我的自我介绍如下：\n",
      "<class 'tuple'>\n",
      "周大神\n",
      "大家好，我的自我介绍如下：\n",
      "<class 'tuple'>\n"
     ]
    }
   ],
   "source": [
    "# 收集参数代码\n",
    "# 函数模拟一个学生进行自我介绍，但具体内容不清楚\n",
    "# args把他看做一个list\n",
    "\n",
    "def stu(*args):\n",
    "    print(\"大家好，我的自我介绍如下：\")\n",
    "    # type函数作用时检测变量的类型\n",
    "    print(type(args))\n",
    "    for item in args:\n",
    "        print(item)\n",
    "\n",
    "stu(\"liuying\", 18, \"北京大通州区\", \"wangxiaojing\", \"single\")\n",
    "stu(\"周大神\")\n",
    "stu()"
   ]
  },
  {
   "cell_type": "markdown",
   "metadata": {},
   "source": [
    "### 收集参数之关键字收集参数\n",
    "- 把关键字参数按字典格式存入收集参数\n",
    "- 语法：\n",
    "\n",
    "        def func_name(**kwargs):\n",
    "            func_block\n",
    "        \n",
    "        #调用 func_name(p1=v1, p2=v2, p3=v3,...)\n",
    "- kwargs一般约定俗成\n",
    "- 调用的时候，把多余的关键字参数放入kwargs\n",
    "- 访问kwargs需要按字典格式访问"
   ]
  },
  {
   "cell_type": "code",
   "execution_count": 1,
   "metadata": {},
   "outputs": [
    {
     "name": "stdout",
     "output_type": "stream",
     "text": [
      "Hello 大家好，我先自我介绍一下：\n",
      "<class 'dict'>\n",
      "name ---- liuying\n",
      "age ---- 19\n",
      "addr ---- 北京大通州区\n",
      "lover ---- 王晓静\n",
      "work ---- Teacher\n",
      "**************************************************\n",
      "Hello 大家好，我先自我介绍一下：\n",
      "<class 'dict'>\n",
      "name ---- 周大神\n",
      "**************************************************\n",
      "Hello 大家好，我先自我介绍一下：\n",
      "<class 'dict'>\n"
     ]
    }
   ],
   "source": [
    "# 收集参数案例\n",
    "# 自我介绍\n",
    "# 调用的时候需要使用关键字参数调用\n",
    "\n",
    "def stu(**kwargs):\n",
    "    # 在函数体内对于kwargs的使用不带星号\n",
    "    print(\"Hello 大家好，我先自我介绍一下：\")\n",
    "    print(type(kwargs))\n",
    "    # 对于字典的访问，python2和python3有区别\n",
    "    for k,v in kwargs.items():\n",
    "        print(k,\"----\",v)\n",
    "        \n",
    "stu(name=\"liuying\", age=19, addr=\"北京大通州区\", lover=\"王晓静\", work=\"Teacher\")\n",
    "\n",
    "print(\"*\" * 50)\n",
    "\n",
    "stu(name=\"周大神\")\n",
    "\n",
    "print(\"*\" * 50)\n",
    "\n",
    "stu()"
   ]
  },
  {
   "cell_type": "markdown",
   "metadata": {},
   "source": [
    "### 收集参数混合调用的顺序问题\n",
    "- 收集参数，关键字参数，普通参数可以混合调用\n",
    "- 使用规则就是，普通参数和关键字参数优先\n",
    "- 基本原则是：位置参数，默认参数，收集参数tuple，关键字参数，收集参数dict(定义和调用都应遵循)\n",
    "- \\*args 表示任何多个无名参数，它是一个tuple；\\*\\*kwargs 表示关键字参数，它是一个dict。并且同时使用\\*args和\\*\\*kwargs时，必须\\*args参数列要在\\*\\*kwargs前"
   ]
  },
  {
   "cell_type": "code",
   "execution_count": 23,
   "metadata": {},
   "outputs": [
    {
     "name": "stdout",
     "output_type": "stream",
     "text": [
      "tanggu 25 2 ('music', 'sport') shanghai {'classes': 2}\n"
     ]
    }
   ],
   "source": [
    "def func(name, age, sex=1, *args, school, **kwargs):\n",
    "    print (name, age, sex, args, school ,kwargs)\n",
    "\n",
    "\n",
    "func('tanggu', 25, 2, 'music', 'sport', classes=2, school= 'shanghai')"
   ]
  },
  {
   "cell_type": "code",
   "execution_count": 3,
   "metadata": {},
   "outputs": [
    {
     "name": "stdout",
     "output_type": "stream",
     "text": [
      "Hello 大家好\n",
      "我叫liuying，我今年19岁。\n",
      "我没有爱好。\n",
      "********************\n",
      "####################\n",
      "Hello 大家好\n",
      "我叫liuying，我今年19岁。\n",
      "我的爱好是swimming\n",
      "********************\n",
      "####################\n",
      "Hello 大家好\n",
      "我叫liuying，我今年19岁。\n",
      "我的爱好是swimming\n",
      "********************\n",
      "王晓静\n",
      "王石头\n",
      "####################\n",
      "hobby1 --- cooking\n",
      "hobby2 --- reading\n"
     ]
    }
   ],
   "source": [
    "# 收集参数混合调用案例\n",
    "# stu模拟一个学生的自我介绍\n",
    "\n",
    "def stu(name, age, *args, hobby=\"None\", **kwargs):\n",
    "    print(\"Hello 大家好\")\n",
    "    print(\"我叫{0}，我今年{1}岁。\".format(name,age))\n",
    "    if hobby == \"None\":\n",
    "        print(\"我没有爱好。\")\n",
    "    else:\n",
    "        print(\"我的爱好是{0}\".format(hobby))\n",
    "        \n",
    "    print(\"*\" * 20)\n",
    "    for i in args:\n",
    "        print(i)\n",
    "    \n",
    "    print(\"#\" * 20)\n",
    "    for k,v in kwargs.items():\n",
    "        print(k, \"---\", v)\n",
    "    \n",
    "# 开始调用函数\n",
    "name = \"liuying\"\n",
    "age = 19\n",
    "\n",
    "stu(name, age)\n",
    "\n",
    "stu(name, age, hobby=\"swimming\")\n",
    "\n",
    "stu(name, age, \"王晓静\", \"王石头\", hobby=\"swimming\", hobby1=\"cooking\", hobby2=\"reading\")\n",
    "    \n",
    "    "
   ]
  },
  {
   "cell_type": "markdown",
   "metadata": {},
   "source": [
    "### 收集参数的解包问题\n",
    "- 把参数放入list或dict中，直接把list/dict中的值放入收集参数中\n",
    "- 语法: *list, **dict"
   ]
  },
  {
   "cell_type": "code",
   "execution_count": 28,
   "metadata": {},
   "outputs": [
    {
     "name": "stdout",
     "output_type": "stream",
     "text": [
      "哈哈哈哈哈\n",
      "<class 'list'>['liuying', 19, 23, 'wangxiaojing']\n",
      "********************\n",
      "哈哈哈哈哈\n",
      "<class 'str'>liuying\n",
      "<class 'int'>19\n",
      "<class 'int'>23\n",
      "<class 'str'>wangxiaojing\n"
     ]
    }
   ],
   "source": [
    "# 收集参数*args的解包\n",
    "\n",
    "def stu(*args):\n",
    "    print(\"哈哈哈哈哈\")\n",
    "    # n 用来表示循环次数\n",
    "    # 主要用来调试\n",
    "    n = 0\n",
    "    for i in args:\n",
    "        print(type(i),end=\"\")\n",
    "        print(i)\n",
    "        \n",
    "        \n",
    "#stu(\"liuying\", \"liuxiaoyhing\", 19, 200)\n",
    "\n",
    "l = [\"liuying\", 19, 23, \"wangxiaojing\"]\n",
    " \n",
    "stu(l)\n",
    "# 此时，args的表示形式是字典内一个list类型的元素，即 arg = ([\"liuying\", 19, 23, \"wangxiaojing\"],)\n",
    "# 很显然跟我们最初的想法违背\n",
    "print(\"*\" * 20)\n",
    "\n",
    "# 此时的调用，我们就需要解包符号，即调用的时候前面加一个星号\n",
    "stu(*l)"
   ]
  },
  {
   "cell_type": "code",
   "execution_count": 37,
   "metadata": {},
   "outputs": [
    {
     "name": "stdout",
     "output_type": "stream",
     "text": [
      "{'name': 'tangtang', 'sex': '女'}\n"
     ]
    }
   ],
   "source": [
    "# *kwargs的解包\n",
    "def print_hello(**kwargs):\n",
    "    print(kwargs)\n",
    "\n",
    "kwargs = {'name': 'tangtang', 'sex': '女'}\n",
    "print_hello(**kwargs)\n",
    "#{'name': 'tanggu', 'sex', u'男'}"
   ]
  }
 ],
 "metadata": {
  "kernelspec": {
   "display_name": "Python 3",
   "language": "python",
   "name": "python3"
  },
  "language_info": {
   "codemirror_mode": {
    "name": "ipython",
    "version": 3
   },
   "file_extension": ".py",
   "mimetype": "text/x-python",
   "name": "python",
   "nbconvert_exporter": "python",
   "pygments_lexer": "ipython3",
   "version": "3.6.5"
  }
 },
 "nbformat": 4,
 "nbformat_minor": 2
}
